{
 "cells": [
  {
   "cell_type": "code",
   "execution_count": 1,
   "metadata": {},
   "outputs": [],
   "source": [
    "CATEGORY = '반려동물'  #분석할 카테고리\n",
    "DIR = '/Users/soothingni/Downloads/NOUN_수정.txt'   #명사만 모은 최종 파일 경로\n",
    "senti_list = ['분노', '불안', '행복', '희망']   #분류할 감정"
   ]
  },
  {
   "cell_type": "code",
   "execution_count": 2,
   "metadata": {},
   "outputs": [],
   "source": [
    "from gensim.models import Word2Vec\n",
    "from sklearn.metrics.pairwise import cosine_similarity\n",
    "import pandas as pd\n",
    "import operator\n",
    "from matplotlib import rc\n",
    "import matplotlib.pyplot as plt\n",
    "import numpy as np"
   ]
  },
  {
   "cell_type": "code",
   "execution_count": 3,
   "metadata": {},
   "outputs": [],
   "source": [
    "with open(DIR, 'r') as f:\n",
    "    docs, IDs = zip(*[(x.split(',')[-1].strip(), x.split(',')[0]) for x in f.readlines() if x.split(',')[-1].strip() != 'Nouns' if x.split(',')[2] == CATEGORY])   #데이터 전체를 분석하고 싶다면(카테고리별이 아닌) 마지막 if 이하를 주석처리\n",
    "\n",
    "#1. Word2Vec 실행\n",
    "docs1 = [x.split(' ') for x in docs]\n",
    "\n",
    "model = Word2Vec(docs1, window=3, min_count=3, size=100)\n",
    "\n",
    "df = pd.read_csv(DIR)\n",
    "df.rename(columns = {'Unnamed: 0': 'ID'}, inplace = True)\n",
    "\n",
    "df_CATEGORY = df.iloc[list(IDs)]\n",
    "\n",
    "#2. 분류에 참조할 감정 유의어 사전 생성\n",
    "synonym_dict = {}\n",
    "for KEYWORD in senti_list:\n",
    "    #특정 단어와 문맥상 유사하게 사용된 단어\n",
    "    top50 = model.wv.similar_by_word( KEYWORD ,topn=50)\n",
    "\n",
    "    synonyms = [word for word, coef in top50 if coef >= 0.5]      #유의어 coef threshold를 0.5로 설정\n",
    "    synonyms.append(KEYWORD)\n",
    "    synonym_dict[KEYWORD] = synonyms\n",
    "    \n",
    "#3. 감정별 점수 딕셔너리 생성\n",
    "senti_score = [0] * len(senti_list)\n",
    "SENTI_DICT = dict(zip(senti_list, senti_score))\n",
    "    \n",
    "#4. 감정 분류 결과를 저장할 데이터프레임 생성\n",
    "df_senti = pd.DataFrame(columns = ['ID', 'Vote_Count', '분노', '불안', '행복', '희망', '우세'])\n",
    "\n",
    "#5. 함수 정의\n",
    "def get_senti(word):\n",
    "    global synonym_dict\n",
    "    global SENTI_DICT\n",
    "    for k, v in synonym_dict.items():\n",
    "        if word in v:\n",
    "            SENTI_DICT[k] += 1\n",
    "\n",
    "def calc_percentage(dictionary):\n",
    "    series  = pd.Series(dictionary)\n",
    "    perc_series = series.apply(lambda x: x / series.sum())\n",
    "    return perc_series\n",
    "\n",
    "def concat_to_df(series):\n",
    "    dom_senti = list(series.loc[series == series.max()].index)\n",
    "    if len(dom_senti) == 1: dom_senti = series.idxmax()    #이 줄과 아랫줄 주석 처리하면 2개 이상의 감정이 동점인 데이터 보존함\n",
    "    else: dom_senti = np.nan\n",
    "    series2 = pd.Series({'ID': ID, 'Vote_Count':Vote_Count, '우세': dom_senti})\n",
    "    total_series = pd.concat([series, series2])\n",
    "    global df_senti\n",
    "    df_senti = df_senti.append(total_series, ignore_index = True)"
   ]
  },
  {
   "cell_type": "code",
   "execution_count": 4,
   "metadata": {},
   "outputs": [],
   "source": [
    "#6. 분류 실행\n",
    "for k in range(len(df_CATEGORY)):\n",
    "    SENTI_DICT = dict.fromkeys(SENTI_DICT, 0)   #SENTI_DICT 값 초기화\n",
    "    ID = df_CATEGORY.ID.iloc[k]\n",
    "    Vote_Count = df_CATEGORY.Vote_Count.iloc[k]\n",
    "\n",
    "    for word in docs1[k]:\n",
    "        get_senti(word)\n",
    "\n",
    "    series = calc_percentage(SENTI_DICT)\n",
    "    \n",
    "    concat_to_df(series)"
   ]
  },
  {
   "cell_type": "code",
   "execution_count": 5,
   "metadata": {},
   "outputs": [
    {
     "data": {
      "text/html": [
       "<div>\n",
       "<style scoped>\n",
       "    .dataframe tbody tr th:only-of-type {\n",
       "        vertical-align: middle;\n",
       "    }\n",
       "\n",
       "    .dataframe tbody tr th {\n",
       "        vertical-align: top;\n",
       "    }\n",
       "\n",
       "    .dataframe thead th {\n",
       "        text-align: right;\n",
       "    }\n",
       "</style>\n",
       "<table border=\"1\" class=\"dataframe\">\n",
       "  <thead>\n",
       "    <tr style=\"text-align: right;\">\n",
       "      <th></th>\n",
       "      <th>ID</th>\n",
       "      <th>Vote_Count</th>\n",
       "      <th>분노</th>\n",
       "      <th>불안</th>\n",
       "      <th>행복</th>\n",
       "      <th>희망</th>\n",
       "      <th>우세</th>\n",
       "    </tr>\n",
       "  </thead>\n",
       "  <tbody>\n",
       "    <tr>\n",
       "      <th>0</th>\n",
       "      <td>38</td>\n",
       "      <td>2</td>\n",
       "      <td>0.000000</td>\n",
       "      <td>0.000000</td>\n",
       "      <td>1.000000</td>\n",
       "      <td>0.000000</td>\n",
       "      <td>행복</td>\n",
       "    </tr>\n",
       "    <tr>\n",
       "      <th>3</th>\n",
       "      <td>237</td>\n",
       "      <td>0</td>\n",
       "      <td>0.333333</td>\n",
       "      <td>0.111111</td>\n",
       "      <td>0.555556</td>\n",
       "      <td>0.000000</td>\n",
       "      <td>행복</td>\n",
       "    </tr>\n",
       "    <tr>\n",
       "      <th>4</th>\n",
       "      <td>253</td>\n",
       "      <td>4</td>\n",
       "      <td>0.000000</td>\n",
       "      <td>0.000000</td>\n",
       "      <td>1.000000</td>\n",
       "      <td>0.000000</td>\n",
       "      <td>행복</td>\n",
       "    </tr>\n",
       "    <tr>\n",
       "      <th>6</th>\n",
       "      <td>393</td>\n",
       "      <td>0</td>\n",
       "      <td>0.000000</td>\n",
       "      <td>0.400000</td>\n",
       "      <td>0.600000</td>\n",
       "      <td>0.000000</td>\n",
       "      <td>행복</td>\n",
       "    </tr>\n",
       "    <tr>\n",
       "      <th>7</th>\n",
       "      <td>482</td>\n",
       "      <td>5</td>\n",
       "      <td>0.000000</td>\n",
       "      <td>0.000000</td>\n",
       "      <td>1.000000</td>\n",
       "      <td>0.000000</td>\n",
       "      <td>행복</td>\n",
       "    </tr>\n",
       "    <tr>\n",
       "      <th>...</th>\n",
       "      <td>...</td>\n",
       "      <td>...</td>\n",
       "      <td>...</td>\n",
       "      <td>...</td>\n",
       "      <td>...</td>\n",
       "      <td>...</td>\n",
       "      <td>...</td>\n",
       "    </tr>\n",
       "    <tr>\n",
       "      <th>4475</th>\n",
       "      <td>433396</td>\n",
       "      <td>815</td>\n",
       "      <td>0.050000</td>\n",
       "      <td>0.250000</td>\n",
       "      <td>0.650000</td>\n",
       "      <td>0.050000</td>\n",
       "      <td>행복</td>\n",
       "    </tr>\n",
       "    <tr>\n",
       "      <th>4476</th>\n",
       "      <td>433558</td>\n",
       "      <td>636</td>\n",
       "      <td>0.000000</td>\n",
       "      <td>0.176471</td>\n",
       "      <td>0.647059</td>\n",
       "      <td>0.176471</td>\n",
       "      <td>행복</td>\n",
       "    </tr>\n",
       "    <tr>\n",
       "      <th>4477</th>\n",
       "      <td>433577</td>\n",
       "      <td>10177</td>\n",
       "      <td>0.250000</td>\n",
       "      <td>0.000000</td>\n",
       "      <td>0.583333</td>\n",
       "      <td>0.166667</td>\n",
       "      <td>행복</td>\n",
       "    </tr>\n",
       "    <tr>\n",
       "      <th>4478</th>\n",
       "      <td>433578</td>\n",
       "      <td>4641</td>\n",
       "      <td>0.000000</td>\n",
       "      <td>0.000000</td>\n",
       "      <td>0.333333</td>\n",
       "      <td>0.666667</td>\n",
       "      <td>희망</td>\n",
       "    </tr>\n",
       "    <tr>\n",
       "      <th>4480</th>\n",
       "      <td>433797</td>\n",
       "      <td>2439</td>\n",
       "      <td>0.000000</td>\n",
       "      <td>0.000000</td>\n",
       "      <td>1.000000</td>\n",
       "      <td>0.000000</td>\n",
       "      <td>행복</td>\n",
       "    </tr>\n",
       "  </tbody>\n",
       "</table>\n",
       "<p>2684 rows × 7 columns</p>\n",
       "</div>"
      ],
      "text/plain": [
       "          ID Vote_Count        분노        불안        행복        희망  우세\n",
       "0         38          2  0.000000  0.000000  1.000000  0.000000  행복\n",
       "3        237          0  0.333333  0.111111  0.555556  0.000000  행복\n",
       "4        253          4  0.000000  0.000000  1.000000  0.000000  행복\n",
       "6        393          0  0.000000  0.400000  0.600000  0.000000  행복\n",
       "7        482          5  0.000000  0.000000  1.000000  0.000000  행복\n",
       "...      ...        ...       ...       ...       ...       ...  ..\n",
       "4475  433396        815  0.050000  0.250000  0.650000  0.050000  행복\n",
       "4476  433558        636  0.000000  0.176471  0.647059  0.176471  행복\n",
       "4477  433577      10177  0.250000  0.000000  0.583333  0.166667  행복\n",
       "4478  433578       4641  0.000000  0.000000  0.333333  0.666667  희망\n",
       "4480  433797       2439  0.000000  0.000000  1.000000  0.000000  행복\n",
       "\n",
       "[2684 rows x 7 columns]"
      ]
     },
     "execution_count": 5,
     "metadata": {},
     "output_type": "execute_result"
    }
   ],
   "source": [
    "#7. 분류 결과 확인\n",
    "df_senti.dropna(how = 'any', inplace = True)    #결측치 제거\n",
    "df_senti"
   ]
  },
  {
   "cell_type": "code",
   "execution_count": 6,
   "metadata": {
    "scrolled": true
   },
   "outputs": [
    {
     "data": {
      "text/plain": [
       "우세\n",
       "분노     125\n",
       "불안     214\n",
       "행복    2213\n",
       "희망     132\n",
       "Name: ID, dtype: int64"
      ]
     },
     "execution_count": 6,
     "metadata": {},
     "output_type": "execute_result"
    }
   ],
   "source": [
    "#8. 감정별 빈도\n",
    "freq_df = df_senti.groupby('우세').count().ID\n",
    "freq_df"
   ]
  },
  {
   "cell_type": "code",
   "execution_count": 7,
   "metadata": {},
   "outputs": [
    {
     "name": "stderr",
     "output_type": "stream",
     "text": [
      "/Users/soothingni/anaconda3/lib/python3.7/site-packages/ipykernel_launcher.py:4: FutureWarning: `Series.plot()` should not be called with positional arguments, only keyword arguments. The order of positional arguments will change in the future. Use `Series.plot(kind='bar')` instead of `Series.plot('bar',)`.\n",
      "  after removing the cwd from sys.path.\n"
     ]
    },
    {
     "data": {
      "text/plain": [
       "<matplotlib.axes._subplots.AxesSubplot at 0x1a25ab9910>"
      ]
     },
     "execution_count": 7,
     "metadata": {},
     "output_type": "execute_result"
    },
    {
     "data": {
      "image/png": "[encoded data removed]",
      "text/plain": [
       "<Figure size 432x288 with 1 Axes>"
      ]
     },
     "metadata": {
      "needs_background": "light"
     },
     "output_type": "display_data"
    }
   ],
   "source": [
    "#9. 시각화\n",
    "rc('font', family = 'AppleGothic')\n",
    "plt.rcParams['axes.unicode_minus'] = False\n",
    "freq_df.plot('bar')"
   ]
  },
  {
   "cell_type": "code",
   "execution_count": null,
   "metadata": {},
   "outputs": [],
   "source": []
  }
 ],
 "metadata": {
  "kernelspec": {
   "display_name": "Python 3",
   "language": "python",
   "name": "python3"
  },
  "language_info": {
   "codemirror_mode": {
    "name": "ipython",
    "version": 3
   },
   "file_extension": ".py",
   "mimetype": "text/x-python",
   "name": "python",
   "nbconvert_exporter": "python",
   "pygments_lexer": "ipython3",
   "version": "3.7.5"
  }
 },
 "nbformat": 4,
 "nbformat_minor": 2
}
