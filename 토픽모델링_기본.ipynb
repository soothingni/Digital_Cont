{
 "cells": [
  {
   "cell_type": "markdown",
   "metadata": {},
   "source": [
    "# 토픽모델링\n",
    "- '정의' 키워드를 제목/본문에 포함하는 글을 대상으로 토픽 모델링을 진행하는 코드다."
   ]
  },
  {
   "cell_type": "markdown",
   "metadata": {
    "ExecuteTime": {
     "end_time": "2020-01-16T23:58:45.728573Z",
     "start_time": "2020-01-16T23:58:44.011942Z"
    }
   },
   "source": [
    "## 1. 모듈 임포트/함수 정의"
   ]
  },
  {
   "cell_type": "code",
   "execution_count": 1,
   "metadata": {
    "ExecuteTime": {
     "end_time": "2020-01-17T06:44:29.227709Z",
     "start_time": "2020-01-17T06:44:27.661106Z"
    }
   },
   "outputs": [],
   "source": [
    "from gensim import corpora\n",
    "from gensim import models\n",
    "from collections import defaultdict\n",
    "#pip install pyLDAvis\n",
    "import pyLDAvis.gensim as gensimvis\n",
    "import pyLDAvis\n",
    "\n",
    "def get_filtered_words(docs):\n",
    "    term_fre_dict = defaultdict(int)\n",
    "    doc_fre_dict = defaultdict(int)\n",
    "    \n",
    "    for doc in docs:\n",
    "        for word in doc:\n",
    "            term_fre_dict[word] += 1\n",
    "        for word in set(doc):\n",
    "            doc_fre_dict[word] += 1\n",
    "    \n",
    "    max_doc_frequency = 1000\n",
    "    min_doc_frequency = 3\n",
    "    max_term_frequency = 7000\n",
    "    min_term_frequency = 5\n",
    "    \n",
    "    doc_frequency_filtered = {k:v for k, v in doc_fre_dict.items() if ((v>=min_doc_frequency) and (v <= max_doc_frequency))}\n",
    "    term_frequency_filtered = {k:v for k, v in term_fre_dict.items() if ((v>=min_term_frequency) and (v <= max_term_frequency))}\n",
    "    both_satisfied = {k:v for k, v in term_frequency_filtered.items() if k in doc_frequency_filtered}\n",
    "    \n",
    "    return both_satisfied\n",
    "\n",
    "def get_highest_topic(topic_list):\n",
    "    highest_topic = 100\n",
    "    highest_prob = 0\n",
    "    for topic, prob in topic_list:\n",
    "        if prob > highest_prob:\n",
    "            highest_prob = prob\n",
    "            highest_topic = topic\n",
    "    return highest_topic, highest_prob\n",
    "\n",
    "def build_doc_word_matrix(docs):\n",
    "    dictionary = corpora.Dictionary(docs)\n",
    "    corpus = []\n",
    "    for doc in docs:\n",
    "        bow = dictionary.doc2bow(doc)\n",
    "        corpus.append(bow)\n",
    "\n",
    "    return corpus, dictionary\n",
    "\n",
    "def print_topic_words(model):\n",
    "    f = open(f'{KEYWORD}_LDA_.txt','w')\n",
    "    for topic_id in range(model.num_topics):\n",
    "        word_probs = model.show_topic(topic_id, NUM_TOPIC_WORDS)\n",
    "        print(\"Topic ID: {}\".format(topic_id))\n",
    "        f.write(str(topic_id)+'\\n')\n",
    "        for word, prob in word_probs:\n",
    "            print(\"\\t{}\\t{}\".format(word, prob))\n",
    "            f.write(str(word)+'\\t'+str(prob)+'\\n')\n",
    "        print(\"\\n\")\n",
    "    f.close()"
   ]
  },
  {
   "cell_type": "markdown",
   "metadata": {},
   "source": [
    "## 2. 키워드 필터링 및 변수 포맷팅\n",
    "- 키워드(KEYWORD)를 지정해준다.\n",
    "- 불용어(stop_words)도 지정해준다."
   ]
  },
  {
   "cell_type": "code",
   "execution_count": 40,
   "metadata": {
    "ExecuteTime": {
     "end_time": "2020-01-17T07:47:21.876304Z",
     "start_time": "2020-01-17T07:47:13.583511Z"
    }
   },
   "outputs": [
    {
     "name": "stdout",
     "output_type": "stream",
     "text": [
      "Number of unique tokens: 45019\n",
      "Number of documents: 12286\n"
     ]
    }
   ],
   "source": [
    "#키워드 및 불용어 지정\n",
    "KEYWORD = '정의'\n",
    "stop_words = [KEYWORD, '국민', '대한민국', '한국', '정부', '대통령', '문재인', '사회', '사람', '문제', '청원', '모든', '대한', '지금', '현재', '나라', '국가', '우리', '저희', '관련', '생각', '까지', '면서', '부터', '대해', '때문', '위해', '대로', '이나', '해주', '도록', '이상', '정말', '내용', '당하', '아무', '보고', '래서', '더니', '려면', '고하', '처럼', '또한']\n",
    "\n",
    "#필터 적용하여 파일 읽어오기\n",
    "with open('NOUN_수정.txt', 'r', encoding='utf-8') as f:\n",
    "    total_docs = [x.split(',')[-1].strip() for x in f.readlines() if KEYWORD in x.split(',')[4]]\n",
    "    \n",
    "#변수 포맷팅(모델링에 적합하게 변수 형태 바꾸기)\n",
    "docs_nouns = [x.split(' ') for x in total_docs]\n",
    "\n",
    "docs_filtered = [[term for term in doc if term not in stop_words and len(term)>1] for doc in docs_nouns]\n",
    "\n",
    "article_indexes = [k for k in range(len(docs_filtered))]\n",
    "\n",
    "corpus, dictionary = build_doc_word_matrix(docs_filtered)\n",
    "# corpus = dtm based on frequency\n",
    "\n",
    "print('Number of unique tokens: %d' % len(dictionary))\n",
    "print('Number of documents: %d' % len(corpus))"
   ]
  },
  {
   "cell_type": "markdown",
   "metadata": {},
   "source": [
    "## 3. Optimal 토픽 수 구하기: Log perplexity 방법\n",
    "- log perplexity 값이 **낮을수록** 정확한 분류다.\n",
    "    - start1: 최소 토픽 수\n",
    "    - limit1: 최대 토픽 수\n",
    "    - step1: 계산할 간격"
   ]
  },
  {
   "cell_type": "code",
   "execution_count": null,
   "metadata": {
    "ExecuteTime": {
     "end_time": "2020-01-17T04:11:09.999281Z",
     "start_time": "2020-01-17T04:08:23.643039Z"
    }
   },
   "outputs": [],
   "source": [
    "#log perplexity 계산\n",
    "start1 = 2         #최소 토픽 수\n",
    "limit1 = 40        #최대 토픽 수\n",
    "step1 = 6          #계산할 간격\n",
    "perplexity_scores=[]\n",
    "for num_topics in range(start1, limit1, step1):\n",
    "    model = models.ldamodel.LdaModel(corpus, num_topics=num_topics,\n",
    "                    id2word=dictionary,\n",
    "                    alpha='auto')\n",
    "    perplexity_scores.append(lda_model.log_perplexity(corpus))"
   ]
  },
  {
   "cell_type": "code",
   "execution_count": 18,
   "metadata": {
    "ExecuteTime": {
     "end_time": "2020-01-17T04:27:37.583655Z",
     "start_time": "2020-01-17T04:27:37.477872Z"
    }
   },
   "outputs": [
    {
     "data": {
      "image/png": "[encoded data removed]",
      "text/plain": [
       "<Figure size 432x288 with 1 Axes>"
      ]
     },
     "metadata": {
      "needs_background": "light"
     },
     "output_type": "display_data"
    }
   ],
   "source": [
    "#log perplexity 시각화    \n",
    "import matplotlib.pyplot as plt\n",
    "x = range(start1, limit1, step1)\n",
    "plt.plot(x, perplexity_scores)\n",
    "plt.xlabel(\"Num Topics\")\n",
    "plt.ylabel(\"Log Perplexity scores\")\n",
    "plt.legend((\"Log Perplexity\"), loc='best')\n",
    "plt.show()"
   ]
  },
  {
   "cell_type": "markdown",
   "metadata": {},
   "source": [
    "log perplexity 수치 상으로 32가 가장 optimal하지만 분류 효율을 고려해서 토픽 수는 14로 정함"
   ]
  },
  {
   "cell_type": "markdown",
   "metadata": {},
   "source": [
    "## 4. 모델링\n",
    "- 토픽 수(NUM_TOPICS)와 토픽 키워드 수(NUM_TOPIC_WORDS)를 지정한다.\n",
    "    - 1회 시행 시에는 임의로 지정하고, 후에 log perplexity 값을 계산하여 최적의 토픽 수로 재지정해준다."
   ]
  },
  {
   "cell_type": "code",
   "execution_count": 41,
   "metadata": {
    "ExecuteTime": {
     "end_time": "2020-01-17T07:47:34.071201Z",
     "start_time": "2020-01-17T07:47:24.463344Z"
    }
   },
   "outputs": [
    {
     "name": "stdout",
     "output_type": "stream",
     "text": [
      "Topic ID: 0\n",
      "\t피해자\t0.015441534109413624\n",
      "\t사건\t0.013138161972165108\n",
      "\t처벌\t0.0094000780954957\n",
      "\t피해\t0.007628896739333868\n",
      "\t범죄\t0.007297794800251722\n",
      "\t검사\t0.00721129821613431\n",
      "\t경찰\t0.0071966396644711494\n",
      "\t판결\t0.007185733877122402\n",
      "\t판사\t0.006372920703142881\n",
      "\t사실\t0.006017421837896109\n",
      "\t증거\t0.0059396387077867985\n",
      "\t억울\t0.005761085543781519\n",
      "\t가해자\t0.005680609494447708\n",
      "\t수사\t0.005548290908336639\n",
      "\t검찰\t0.005059225019067526\n",
      "\n",
      "\n",
      "Topic ID: 1\n",
      "\t공무원\t0.10108289867639542\n",
      "\t행정\t0.07693599164485931\n",
      "\t일반\t0.06333513557910919\n",
      "\t거짓말\t0.013501394540071487\n",
      "\t운전\t0.01301309559494257\n",
      "\t선출\t0.012877949513494968\n",
      "\t직분\t0.010691532865166664\n",
      "\t인간\t0.00922224298119545\n",
      "\t전부\t0.008943475782871246\n",
      "\t야합\t0.007893666625022888\n",
      "\t전직\t0.006646058987826109\n",
      "\t북한\t0.006195159163326025\n",
      "\t신들\t0.006003635469824076\n",
      "\t국회의원\t0.005999664310365915\n",
      "\t조직\t0.005153188481926918\n",
      "\n",
      "\n",
      "Topic ID: 2\n",
      "\t북한\t0.04466790705919266\n",
      "\t국제\t0.02784888818860054\n",
      "\t미국\t0.02169025130569935\n",
      "\t외교부\t0.02053970843553543\n",
      "\t비핵화\t0.010181687772274017\n",
      "\t한반도\t0.009738323278725147\n",
      "\t중국\t0.009054922498762608\n",
      "\t외교\t0.008067596703767776\n",
      "\t사건\t0.008042852394282818\n",
      "\t김정은\t0.007701136637479067\n",
      "\t남북\t0.007227289490401745\n",
      "\t트럼프\t0.006848557386547327\n",
      "\t선언\t0.006551274564117193\n",
      "\t평화\t0.006352241151034832\n",
      "\t대중교통\t0.006249564699828625\n",
      "\n",
      "\n",
      "Topic ID: 3\n",
      "\t사건\t0.018078550696372986\n",
      "\t수사\t0.011583107523620129\n",
      "\t검찰\t0.011119759641587734\n",
      "\t재판\t0.008951930329203606\n",
      "\t사실\t0.007631722837686539\n",
      "\t조사\t0.006661195307970047\n",
      "\t검사\t0.005239505786448717\n",
      "\t법원\t0.004760407377034426\n",
      "\t요청\t0.004745878279209137\n",
      "\t회장\t0.004574363119900227\n",
      "\t기관\t0.004475967027246952\n",
      "\t불법\t0.0044375392608344555\n",
      "\t고소\t0.00429239496588707\n",
      "\t판결\t0.003961796872317791\n",
      "\t본인\t0.0038240195717662573\n",
      "\n",
      "\n",
      "Topic ID: 4\n",
      "\t여성\t0.03710552677512169\n",
      "\t남성\t0.01699608378112316\n",
      "\t남자\t0.00942600890994072\n",
      "\t피해자\t0.007666813209652901\n",
      "\t발의\t0.007267618551850319\n",
      "\t전용\t0.007109930273145437\n",
      "\t성폭력\t0.006361902691423893\n",
      "\t처벌\t0.006264396943151951\n",
      "\t무고\t0.006157876458019018\n",
      "\t신고\t0.005903188604861498\n",
      "\t남편\t0.005805427674204111\n",
      "\t여자\t0.005599474534392357\n",
      "\t적용\t0.005536756478250027\n",
      "\t호텔\t0.005513691809028387\n",
      "\t성범죄\t0.005379315931349993\n",
      "\n",
      "\n",
      "Topic ID: 5\n",
      "\t문화\t0.022891510277986526\n",
      "\t대학\t0.01795339398086071\n",
      "\t시험\t0.012886365875601768\n",
      "\t교수\t0.011144474148750305\n",
      "\t일본\t0.009636391885578632\n",
      "\t어진\t0.007144987117499113\n",
      "\t교육\t0.007035626098513603\n",
      "\t미국\t0.006054301280528307\n",
      "\t학생\t0.006011779420077801\n",
      "\t세계\t0.0058508883230388165\n",
      "\t대학교\t0.005804163403809071\n",
      "\t발전\t0.005533396732062101\n",
      "\t개념\t0.005226939916610718\n",
      "\t논문\t0.004472989123314619\n",
      "\t경제\t0.004347090609371662\n",
      "\n",
      "\n",
      "Topic ID: 6\n",
      "\t자활\t0.04682094603776932\n",
      "\t모씨\t0.041350387036800385\n",
      "\t차주\t0.01775965467095375\n",
      "\t경찰\t0.014931649900972843\n",
      "\t방화\t0.010294163599610329\n",
      "\t조직\t0.009789521805942059\n",
      "\t범죄\t0.008678753860294819\n",
      "\t운송\t0.007127950433641672\n",
      "\t사용\t0.006166619248688221\n",
      "\t존재\t0.005992602091282606\n",
      "\t할당\t0.005559988785535097\n",
      "\t성분\t0.005323284771293402\n",
      "\t며느리\t0.005262462422251701\n",
      "\t사건\t0.005153272300958633\n",
      "\t사욕\t0.0051302737556397915\n",
      "\n",
      "\n",
      "Topic ID: 7\n",
      "\t건강\t0.017649410292506218\n",
      "\t병원\t0.014874208718538284\n",
      "\t보험\t0.013951059430837631\n",
      "\t의료\t0.012740292586386204\n",
      "\t환자\t0.010159033350646496\n",
      "\t치료\t0.009900243952870369\n",
      "\t복지\t0.009581459686160088\n",
      "\t자동차\t0.007455195765942335\n",
      "\t의사\t0.007184305228292942\n",
      "\t제도\t0.006651853211224079\n",
      "\t국민연금\t0.006131893955171108\n",
      "\t경우\t0.005474185571074486\n",
      "\t공단\t0.005381913855671883\n",
      "\t발전\t0.004733647685497999\n",
      "\t었다\t0.004348848480731249\n",
      "\n",
      "\n",
      "Topic ID: 8\n",
      "\t정책\t0.005328933708369732\n",
      "\t경제\t0.003519919700920582\n",
      "\t아가\t0.002877742750570178\n",
      "\t기업\t0.0028746826574206352\n",
      "\t부동산\t0.002823919989168644\n",
      "\t세금\t0.002822969574481249\n",
      "\t드립\t0.0026616386603564024\n",
      "\t상황\t0.0026510097086429596\n",
      "\t지원\t0.002612574491649866\n",
      "\t어서\t0.0025977175682783127\n",
      "\t서민\t0.0025962647050619125\n",
      "\t공무원\t0.0025668723974376917\n",
      "\t필요\t0.0025523812510073185\n",
      "\t가지\t0.002385601866990328\n",
      "\t이유\t0.0023361993953585625\n",
      "\n",
      "\n",
      "Topic ID: 9\n",
      "\t분양\t0.008144333958625793\n",
      "\t사업\t0.008069109171628952\n",
      "\t회사\t0.007745502050966024\n",
      "\t건설\t0.006953740026801825\n",
      "\t민원\t0.0065201823599636555\n",
      "\t관리\t0.006373997777700424\n",
      "\t공사\t0.00601906469091773\n",
      "\t계약\t0.005986865144222975\n",
      "\t아파트\t0.0059745884500443935\n",
      "\t결정\t0.005114100407809019\n",
      "\t조합원\t0.004661139100790024\n",
      "\t시설\t0.004501987714320421\n",
      "\t주민\t0.004236978944391012\n",
      "\t주택\t0.00392164895310998\n",
      "\t업체\t0.003864194732159376\n",
      "\n",
      "\n",
      "Topic ID: 10\n",
      "\t경찰\t0.09977186471223831\n",
      "\t범죄\t0.033688534051179886\n",
      "\t기후\t0.033043939620256424\n",
      "\t국제\t0.02436617761850357\n",
      "\t조직\t0.02302173711359501\n",
      "\t불법\t0.02279665879905224\n",
      "\t기구\t0.017225371673703194\n",
      "\t사용\t0.011294635012745857\n",
      "\t인권\t0.01085158996284008\n",
      "\t유린\t0.009877046570181847\n",
      "\t부패\t0.009685023687779903\n",
      "\t재산\t0.00932967197149992\n",
      "\t고문\t0.008545370772480965\n",
      "\t범죄자\t0.008204061537981033\n",
      "\t차입\t0.007657622918486595\n",
      "\n",
      "\n",
      "Topic ID: 11\n",
      "\t사법\t0.005731246434152126\n",
      "\t적폐\t0.004656011238694191\n",
      "\t비리\t0.004602443426847458\n",
      "\t국회\t0.004573322366923094\n",
      "\t개혁\t0.004203189164400101\n",
      "\t조국\t0.0039358241483569145\n",
      "\t대법관\t0.003826367435976863\n",
      "\t행위\t0.003820127109065652\n",
      "\t정권\t0.0038020380306988955\n",
      "\t범죄\t0.003753179218620062\n",
      "\t정치\t0.003636331995949149\n",
      "\t장관\t0.0036153781693428755\n",
      "\t사건\t0.003460315056145191\n",
      "\t청와대\t0.003205964807420969\n",
      "\t권력\t0.0029576141387224197\n",
      "\n",
      "\n",
      "Topic ID: 12\n",
      "\t학교\t0.05090833455324173\n",
      "\t학생\t0.041542720049619675\n",
      "\t교육\t0.02368655428290367\n",
      "\t교사\t0.019630800932645798\n",
      "\t선생님\t0.017105886712670326\n",
      "\t아이\t0.014431792311370373\n",
      "\t수업\t0.012688116170465946\n",
      "\t학원\t0.012217199429869652\n",
      "\t교육청\t0.011989517137408257\n",
      "\t교육부\t0.009880170226097107\n",
      "\t초등학교\t0.006660701707005501\n",
      "\t시간\t0.005864976439625025\n",
      "\t학교장\t0.005758862942457199\n",
      "\t학년\t0.005746534559875727\n",
      "\t교장\t0.005083862226456404\n",
      "\n",
      "\n",
      "Topic ID: 13\n",
      "\t국회\t0.029505668208003044\n",
      "\t의원\t0.023462744429707527\n",
      "\t민주당\t0.019959615543484688\n",
      "\t국회의원\t0.012675580568611622\n",
      "\t의원님\t0.012274038046598434\n",
      "\t정의당\t0.011540178209543228\n",
      "\t정당\t0.010054050013422966\n",
      "\t법안\t0.009753403253853321\n",
      "\t통과\t0.0087784668430686\n",
      "\t공수\t0.008351671509444714\n",
      "\t수석\t0.007236105855554342\n",
      "\t대표\t0.006590887438505888\n",
      "\t불법\t0.006292290054261684\n",
      "\t동물\t0.006027208175510168\n",
      "\t모임\t0.005705082323402166\n",
      "\n",
      "\n"
     ]
    }
   ],
   "source": [
    "#토픽 수와 토픽 키워드 수 지정\n",
    "NUM_TOPICS = 14    #토픽 수\n",
    "NUM_TOPIC_WORDS = 15    #토픽 키워드 수\n",
    "\n",
    "#모델 시행\n",
    "lda_model = models.ldamodel.LdaModel(corpus, num_topics=NUM_TOPICS,\n",
    "                        id2word=dictionary,\n",
    "                        alpha='auto')\n",
    "\n",
    "#실행할 때마다 결과가 달라짐; 원하는 결과가 나올 때까지"
   ]
  },
  {
   "cell_type": "code",
   "execution_count": 37,
   "metadata": {
    "ExecuteTime": {
     "end_time": "2020-01-17T07:38:16.849980Z",
     "start_time": "2020-01-17T07:38:16.827040Z"
    }
   },
   "outputs": [
    {
     "name": "stdout",
     "output_type": "stream",
     "text": [
      "0\n",
      "['공공기관', '무조건', '정규직', '전환', '반대', '정규직', '일자리', '찬성', '공공기관', '비정규직', '인맥', '경우', '자질', '정규직', '피해', '공공기관', '정규직', '경쟁률', '경우', '노량진', '청춘', '공부', '기존', '비정규직', '무조건', '무기', '전환', '다른', '정유', '탄생', '역차별', '필요', '신규', '채용', '공채', '절차', '무기', '전환', '예전', '공무원', '능직', '일반', '전환', '초등학교', '중초', '교사', '임용', '실제', '업무', '처리', '미흡', '사립학교', '인건비', '주니', '사립학교', '공채', '부디', '사례', '하나', '하나', '처리', '전체', '정규직', '숫자', '전환', '실천', '역차별', '채용']\n",
      "[(2, 0.8475936), (7, 0.13375847)]\n",
      "2 0.8475936\n",
      "\n",
      "\n",
      "1\n",
      "['소액', '주주', '보호', '존경', '중국', '자원', '상장', '사의', '소액', '주주', '중국', '자원', '이하', '중원', '이번', '회계감사', '의견', '거절', '감사', '판단', '상장폐지', '목전', '상장폐지', '국내', '상장', '천문학', '금액', '취득', '회사', '규모', '개인', '자산', '자신', '분도', '이득', '중국인', '장화', '사장', '정리', '매매', '휴지', '조각', '비용', '자신', '다시', '로서', '지위', '다시', '획득', '자신', '기업', '피땀', '자금', '중국인', '사장', '금융', '당국', '상장', '운영', '주체', '거래소', '누구', '책임', '그냥', '국내', '소액', '주주', '눈물', '통속', '주식', '투자', '개인', '판단', '투자', '개인', '책임', '기전', '과정', '규정', '상식', '존경', '말씀', '가슴', '깊이', '우리나라', '금융', '시스템', '거래소', '회계감사', '이유', '이번', '회계감사', '의견', '거절', '이유', '이번', '회계법인', '추측', '무니', '의견', '거절', '재산', '한순간', '거품', '위기', '본인', '비롯', '죽음', '극단', '선택', '원통', '눈물', '기업', '사업', '계속', '존속', '여부', '점검', '감사', '회계법인', '오직', '사실', '증거', '근거', '기업', '존속', '여부', '의견', '내야', '유추', '경우', '판례', '근거', '회계법인', '제도', '확정', '추정', '사항', '의견', '거절', '결정', '이유', '명시', '감사', '자의', '의견', '거절', '결과', '볼때', '명의', '가족', '감사', '결과', '절대로', '인정', '고통', '원인', '제도', '규정', '근거', '자의', '추측', '작성', '발표', '감사', '감사', '보고서', '의견', '거절', '증권', '거래소', '상장', '중국', '자원', '투자', '명과', '가족', '감사', '의견', '거절', '절망', '의욕', '희망', '모두', '분명', '투자', '개개인', '책임', '최근', '언론', '통해', '노후', '국민연금', '역시', '증권', '시장', '공정', '성과', '투명', '크게', '의존', '증권', '시장', '공정', '성과', '투명', '확보', '증권', '시장', '의존', '노후', '국민연금', '역시', '재산', '푼돈', '마찬가지', '은행', '증권', '보험사', '통해', '형태', '금융', '상품', '가입', '금융', '소비자', '역시', '불공정', '금융', '질서', '피해자', '피해', '증권', '시장', '금융시장', '전례', '불공정', '뿌리', '우리나라', '금융', '시장', '독버섯', '세력', '명의', '재산', '몰수', '회계', '감사', '법인', '감사', '의견', '개인', '투자자', '눈물', '로만', '이유', '여기', '기업', '회계', '기록', '적정', '회사', '계속', '존속', '여부', '점검', '회계', '감사', '법인', '오직', '사실', '뒷받침', '증거', '근거', '회계', '장부', '기록', '의견', '표명', '추정', '경우', '회계', '기준', '규정', '방법', '준수', '명시', '회계', '감사', '의견', '자체', '기업', '사활', '결정', '대출', '가능', '여부', '회사채', '발행', '가능', '여부', '증권', '시장', '상장', '유지', '상장', '폐지', '결정', '이기', '회계법인', '규정', '근거', '추측', '예단', '감사', '의견', '거절', '결정', '근거', '명시', '감사', '의견', '거절', '명의', '재산', '상장', '폐지', '몰수', '결과', '법적', '근거', '불공정', '처사', '명의', '가족', '감사', '결과', '절대', '인정', '감사', '회계법인', '감사', '의견', '거절', '표명', '근거', '가지', '증권', '선물', '위원회', '정례', '회의', '회사', '대표이사', '검찰', '고발', '결의', '우발', '부채', '소송', '사건', '재무제표', '영향', '대하', '감사', '증거', '회사', '제공', '유동', '부채', '유동', '자산', '자본금', '잠식', '사유', '하나', '의견', '거절', '사유', '증권', '선물', '위원회', '회의', '중국', '자원', '대표이사', '고발', '결의', '감사', '의견', '거절', '근거', '매년', '차례', '회사', '내부', '서류', '샅샅', '반기', '연말', '감사', '직접', '수행', '차례', '회계', '장부', '작성', '적정', '의견', '표명', '회계', '감사', '회계법인', '법원', '유죄', '판결', '검찰', '기소', '검찰', '고발', '결의', '증권', '선물', '위원회', '사유', '작년', '기준', '작성', '회사', '회계', '장부', '이유', '매년', '차례', '회계', '장부', '증빙', '서류', '샅샅', '확인', '조사', '검토', '회계', '법인', '직접', '확인', '증빙', '서류', '상급', '감독', '기관', '회의', '대표이사', '검찰', '고발', '결의', '사항', '감사', '의견', '거절', '근거', '삼은', '지난', '동안', '차례', '감사', '과정', '입수', '회계', '서류', '감사', '의견', '거절', '표명', '상급', '감독', '기관', '대표이사', '검찰', '고발', '결의', '결정', '사유', '감사', '의견', '거절', '주목', '더구나', '우리나라', '증권', '시장', '전례', '대표이사', '검찰', '고발', '실제', '벌금형', '선고', '셀트리온', '경우', '회사', '감사', '의견', '전혀', '영향', '감사', '의견', '거절', '사유', '규정', '전혀', '근거', '의견', '거절', '사유', '역시', '회사', '법인', '우발', '부채', '소송', '사건', '회사', '대표이사', '개인', '우발', '부채', '소송', '사건', '삼은', '회사', '감사', '회계법인', '각각', '회사', '외국', '현지', '로펌', '선임', '의견서', '제출', '결과', '회사', '로펌', '의견', '의견', '거절', '사유', '자본잠식', '자본잠식', '회계', '감사', '의견', '표명', '무관', '불구', '감사', '의견', '거절', '사유', '거래소', '자본잠식', '연속', '유지', '경우', '상장', '폐지', '사유', '규정', '감사', '의견', '거절', '사유', '자본잠식', '어디', '근거', '처사', '코스닥', '시장', '개사', '부분', '자본', '잠식', '회사', '등록', '또한', '유동', '부채', '유동', '자산', '초과', '후속', '사건', '감사', '감사', '시점', '개월', '후속', '사건', '감사', '의견', '거절', '사유', '전면', '앞서', '후속', '사건', '감사', '의견', '전혀', '반영', '규정', '근거', '형평성', '크게', '감사', '의견', '국내', '주주', '명의', '재산', '합계', '천억', '하루', '아침', '상황', '중국', '자원', '상장', '폐지', '여부', '감사', '감사', '의견', '결정', '감사', '회계법인', '동안', '의심', '눈초리', '국내', '통상', '회계', '감사', '감사', '수행', '회사', '회계', '장부', '오점', '발견', '지난', '동안', '감사', '수집', '증거', '감사', '의견', '거절', '표명', '감사', '제도', '근거', '의견', '거절', '표명', '국내', '투자자', '명의', '생계', '사지', '회사', '지난', '선원', '파업', '어업', '조황', '악화', '어가', '실적', '동시', '악조건', '선단', '모험', '감행', '적자', '어가', '회복', '조업', '선단', '자리', '장화', '리사', '하반기', '순이익', '자신', '순이익', '배당', '또한', '우리나라', '포함', '전세계', '어업', '환경', '업체', '매출', '이익', '대비', '향상', '와중', '형평', '감사', '결과', '상장', '체인', '거래소', '상장', '중국', '자원', '회사', '어업', '발전', '가능성', '투자', '십년', '소액', '주주', '재산', '한순간', '휴지', '조각', '현실', '가슴', '소액', '주주', '자체', '존폐', '위기', '거래소', '심리', '제도', '날선', '칼날', '한편', '투명', '정성', '보편성', '정당성', '형평성', '유지', '미래', '성장', '인정', '기업', '도태', '한쪽', '일방', '방패', '역할', '수행', '중국', '자원', '과거', '일련', '사건', '집중', '미래', '모습', '상대', '한시', '투자자', '권익', '입장', '가장', '위로', '투자자', '의견', '읍소', '아랑곳', '대다수', '누굴', '투자', '상장폐지', '제도', '투자자', '보호', '투자자', '보호', '형평성', '심사', '간청', '또한', '무엇', '감사', '결과', '정정', '하나', '최소한', '소액', '주주', '피해', '최소', '거래소', '당국자', '개선', '기간', '다시', '부여', '융통성', '발휘', '개선', '기간', '부여', '추가', '다른', '피해', '회사', '약속', '이익', '개선', '최악', '경우', '회사', '실적', '더라도', '장화', '사장', '해임', '모색', '국부', '유출', '투자자', '거래소', '라면', '최소한', '투자자', '피해', '결정', '부디', '소시민', '눈물', '목소리', '주시', '판단', '마음', '다해']\n",
      "[(0, 0.30791882), (2, 0.17228429), (5, 0.01509639), (8, 0.37657607), (9, 0.03491338), (12, 0.09266259)]\n",
      "8 0.37657607\n",
      "\n",
      "\n",
      "2\n",
      "['유공', '지원', '법률상', '전몰', '군경', '자녀수당', '불합리', '문제점', '개선', '현황', '아버지', '년전', '남침', '조국', '위기', '목숨', '헌신', '대부분', '아버님', '전쟁', '지금껏', '유해', '수습', '제대로', '오직', '유공', '자녀', '자긍심', '기간', '가난', '멸시', '천대', '전후', '원호', '제도', '사자', '가족', '보상', '연금', '경제', '발전', '수준', '전쟁', '유자녀', '성년', '이유', '보훈', '보상', '혜택', '제외', '김대중', '시절', '훈제', '확대', '전후', '보훈혜택', '보전', '기준', '아래', '제적', '유자녀', '승계', '유자녀', '자녀', '대하', '전몰', '군경', '자녀수당', '지급', '단서', '조항', '이후', '어머니', '사망', '연금', '수급', '소멸', '시작', '유자녀', '대하', '적용', '배제', '어머니', '하루', '차이', '미수', '유자녀', '아래', '보훈정책', '대가', '신설', '수당', '유족', '연금', '노무현', '점차', '현실', '인상', '조정', '장기간', '누증', '전쟁', '아버지', '전사', '군경', '유자녀', '누구', '지원', '누구', '지원', '형평성', '유공', '지원', '법률', '자녀수당', '단서', '조항', '삭제', '법안', '국회', '민주당', '민홍철', '의원님', '경남', '김해', '대표', '발의', '당시', '여당', '의원', '일부', '반대', '우여곡절', '전해철', '사위', '위원장', '주도', '노력', '정기회', '재석', '의원', '만장일치', '통과', '법률', '호로', '공포', '박근혜', '개정', '이유', '입법부', '제안', '특정', '기준', '전몰', '유자녀', '자녀수당', '지급', '자녀', '형평성', '모함', '생활', '안정', '복지', '향상', '재고', '입법부', '개정', '법률', '정면', '위배', '시행', '령제', '호으', '불평등', '호국', '영령', '명예', '당사자', '우롱', '결과', '현황', '전몰', '군경', '유자녀', '수당', '현황', '최초', '시행일', '최초', '수령', '수령', '수령', '제적', '유자녀', '여명', '승계', '유자녀', '여명', '수당', '유자녀', '신규', '여명', '참고', '유족', '연금', '여명', '동일', '제적', '유자녀', '사자', '미성년', '자녀', '로서', '보상금', '성년', '보상금', '유족', '지급', '대상', '제적', '경우', '승계', '유자녀', '사자', '배우자', '부모', '보상금', '이전', '사망', '수급', '경우', '수당', '유자녀', '이후', '사자', '배우자', '부모', '보상금', '사망', '수급', '경우', '구분', '호칭', '국가보훈처', '유족', '연금', '수령', '자의', '자녀', '향후', '유자녀', '수당', '대상', '국가보훈처', '보상금', '수당', '형평성', '조부모', '모친', '수명', '연관', '유족', '수령', '형평성', '위표', '유자녀', '수당', '시작', '수당', '수령', '보상금', '연금', '위표', '조부모', '모친', '보상금', '수령', '이전', '역차별', '발생', '보수', '정권', '하의', '보훈처', '확대', '시행', '자체', '반대', '더욱이', '위표', '미수', '유자녀', '유족', '보훈', '수령', '평균', '전몰', '유족', '보상', '수령', '부친', '전사', '이후', '보상금', '수령', '기준', '각종', '사고', '보상금', '지급', '사례', '비교', '보훈', '안보', '연구원', '혜란', '유영', '논문', '정전협정', '사자', '가족', '희생', '유공', '유족', '보수', '정권', '허무맹랑', '호국', '보훈', '정책', '유공', '보상', '보훈', '유공', '희생', '보답', '유공', '배우자', '자녀', '부모', '위치', '우정', '달리', '원칙', '순위', '유족', '누구', '권리', '소유', '행사', '주어', '국가보훈처', '과거', '자녀', '미성년', '자녀', '규정', '성년', '이유', '금지', '대상', '제외', '보훈정책', '시안', '잘못', '세계', '성년', '자녀', '보상', '주무', '부처', '논리', '예산', '당국', '횡포', '동족', '전쟁', '아픔', '상처', '보지', '정체', '성도', '공직자', '무지', '사자', '생존자', '전사', '예우', '불균형', '초래', '보훈정책', '과오', '독립운동', '유족', '보상', '시행', '광주', '민주화', '운동', '보상', '별도', '차별', '규정', '발생', '모순', '원망', '사자', '유족', '연금', '보상금', '아래', '보시', '심경', '이해', '사망', '사고', '보상금', '비교', '광주', '민주화', '운동', '국고', '보상', '랜드', '화재', '삼풍', '사고', '성수대교', '대구', '철도', '세월호', '참사', '천안함', '희생', '경주마', '리조트', '아시아나', '착륙', '사고', '서해', '훼리', '등등', '취임', '광화문', '번가', '인수', '위원회', '비서실', '편지', '메일', '제안', '호소', '바로', '국가보훈처', '이첩', '국가보훈처', '과거', '보수', '정권', '하와', '앵무새', '답변', '반복', '답변', '일부', '인용', '이후', '보상금', '수령', '유족', '유자녀', '수혜', '보기', '정책', '판단', '향후', '재정', '여건', '감안', '관계', '부처', '협의', '점차', '개선', '대표', '면담', '청마', '업무', '수행', '대외', '행사', '참여', '회신', '경청', '소통', '거부', '국가보훈처', '업무', '태도', '의사소통', '국정', '운영', '철학', '해결', '방안', '유공', '지원', '법률', '시행', '별표', '개정', '승계', '유자녀', '신규', '유자녀', '속칭', '유자녀', '포함', '차등', '일률', '지급', '예산', '정이', '연금', '수급', '정지', '기간', '개별', '감안', '역순', '약간', '인정', '차등', '방안', '당사자', '납득', '개인', '하나', '근원', '해결', '국회', '호국', '가유', '공자', '지원', '법률', '일부', '개정', '법률', '민주당', '민홍철', '의원', '발의', '제정', '목적', '이념', '사자', '유족', '명예', '회복', '전몰', '유자녀', '유족', '갈등', '불평등', '해소', '개정안', '정무', '위원회', '계류', '의원', '입법', '통과', '정책', '배려', '여당', '주도', '지원이', '사료', '아쉬움', '희생', '유자녀', '아버지', '죽음', '대가', '사회보장', '생활', '보호', '차원', '보상', '평균', '나이', '이상인', '당사자', '기초', '생활', '보장', '노약', '복지', '차원', '중복', '허탈', '초생', '활보', '장법', '생계', '여가', '기준', '중위', '소득', '감안', '수준', '합리', '결정', '최소', '기준', '시행', '상위', '무력', '행정권', '남용', '원칙', '불평등', '해결', '차선', '기준', '조정', '호소', '존경', '지난', '현충일', '추념', '유공', '보훈', '대상자', '가족', '자존감', '헌신', '보상', '반역', '심판', '믿음', '말씀', '그것', '애국심', '다운', '애국', '보상', '보상', '원칙', '보상', '정직', '보상', '말씀', '독립유공자', '가족', '행사', '광복절', '기념', '가장', '하나', '보훈정책', '제대로', '라며', '보훈처', '부처', '보훈', '보상', '체계', '개선', '방안', '준비', '이번', '기회', '보훈', '기틀', '마음', '한가지', '독립운동', '유족', '전체', '확대', '참전용사', '무공', '예수', '대폭', '인상', '순직', '군인', '경찰', '소방', '공무원', '유족', '처우', '확대', '의료', '확대', '언급', '전쟁', '아버지', '유해', '인수', '처우', '유자녀', '외면', '사랑', '부모', '형제', '부인', '핏덩', '자식', '전사', '가장', '심정', '보훈', '기틀', '다시', '어머니', '연금', '생활', '수도', '소년가장', '자식', '효심', '어머니', '조금', '가시', '미수', '신규', '유자녀', '위표', '바로', '평균', '이상인', '아버지', '목숨', '자랑']\n",
      "[(0, 0.4712905), (2, 0.41546842), (13, 0.1120828)]\n",
      "0 0.4712905\n",
      "\n",
      "\n",
      "3\n",
      "['스텔라', '데이지', '제안', '스텔라', '데이지', '제안', '스텔라', '데이지', '호가', '침몰', '일찍', '포기', '추후', '사고', '해결', '나중', '부담', '수도', '가족', '희망', '발견', '명벌', '땟목', '선원', '생존', '훈련', '선원', '대부분', '명벌', '지붕', '생존', '도구', '구비', '기간', '이전', '정권', '대선', '이전', '수색', '중단', '정권', '교체', '수색', '태평양', '수심', '애초', '마음속', '일찍', '포기', '듭니', '멕시코', '개월', '동안', '표류', '구조', '어부', '과태', '요트', '전복', '태평양', '표류', '부부', '어선', '구조', '일도', '명벌', '포기', '구명', '벌이', '침몰', '당시', '분리', '확인', '선박', '침몰', '원인', '찾기', '심해', '탐사', '장비', '통한', '수색', '선박', '침몰', '선사', '노후', '선박', '개조', '사전', '균열', '의혹', '제기', '상황', '구명', '벌이', '선박', '분리', '명벌', '수색', '필요', '침몰', '원인', '확인', '수도', '침몰', '당시', '자동', '발신', '조난', '신호', '위치', '수동', '발신', '조난', '신호', '발생', '위치', '확인', '레이', '인공위성', '사진', '이용', '침몰', '위치', '특정', '유인', '심해', '탐사', '심해', '탐사', '기록', '일본', '중국', '아주', '수도', '애초', '사고', '발생', '해수부', '국방부', '협조', '구해', '구조', '군함', '헬기', '지원', '변국', '협조', '방위', '명벌', '수색', '구명', '벌이', '조류', '바람', '어디', '지역', '지속', '구조', '선박', '헬기', '수색', '주변', '무인도', '수색', '나중', '구명', '벌이', '발견', '시신', '발견', '비난', '모두', '이기', '먼저', '다라', '가치', '공간', '마련']\n",
      "[(0, 0.17884377), (2, 0.81623775)]\n",
      "2 0.81623775\n",
      "\n",
      "\n",
      "4\n",
      "['절차', '교육부', '장관', '교사', '정규직', '임용고시', '제도', '통해', '정교', '사가', '기간', '교사', '현직', '교사', '휴직', '병가', '파견', '동안', '기간', '동안', '대체', '교사', '복직', '계약', '자동', '해제', '기간', '교사', '교사', '자격증', '가지', '정식', '교사', '임용고시', '방법', '기간', '학교', '알음', '알음', '지인', '통해', '기간', '제도', '임용고시', '통해', '정식', '교사', '젊은이', '포기', '임용고시', '전념', '시간', '비용', '경쟁률', '시험', '합격', '정식', '절차', '정식', '교사', '임용고시', '교육과정', '교수', '교수', '전부', '공부', '합격', '기간', '기간', '동안', '대체', '채용', '완전', '깜깜', '채용', '기간', '교사', '임용고시', '포기', '그냥', '기간', '제로', '경우', '아마', '누가', '임용고시', '임용고시', '정교', '학부모', '고생', '임용', '기자', '가슴', '위반', '정책', '인기', '영합', '즉흥', '정책', '포퓰리즘', '정책', '주위', '갑자기', '무슨', '정책', '발언', '정도', '기간', '교사', '정규화', '누구', '상식', '반대', '기간', '제도', '합격', '기자', '차라리', '기간', '제로', '채용', '필요', '잠깐', '채용', '스포츠', '강사', '영어', '강사', '그냥', '필요', '강사', '어찌', '무기계약직', '기적', '무기', '공무원', '월급', '달라', '교사', '자격증', '강사', '어찌', '정규직', '현직', '교사', '교총', '학부모', '사대', '교대', '일반인', '기간', '교사', '정규직', '달라', '생떼', '양심', '어찌', '무임', '승차', '이제', '학교', '기간', '제도', '시대', '정규직', '기간', '정규직', '결사', '반대', '만약', '정유', '제도', '비정규직', '출발', '정규직', '연줄', '누가', '임용고시', '공부', '교사', '전문직', '전문직', '미래세', '임무', '평등', '공정', '교사', '역차별', '기회', '박탈', '제도', '과정', '정이', '노력', '희망이', '세상', '교사', '어찌', '학생', '고개', '학생', '보기', '교육', '장님', '먼저', '교육', '현장', '일자리', '이용', '희망이', '기간', '교사', '시간', '강사', '스포츠', '강사', '외한', '법적', '심의', '논의', '사안', '기간', '교사', '정규직', '복직', '교사', '어디', '야합', '복직', '육아휴직', '벌써', '법앞', '평등', '교육부', '장관', '법적', '존재', '제발', '반대', '목소리', '판단']\n",
      "[(0, 0.07531334), (2, 0.5564184), (7, 0.06662832), (11, 0.29875308)]\n",
      "2 0.5564184\n",
      "\n",
      "\n",
      "5\n",
      "['기간', '강사', '정규직', '무기', '직화', '반대', '기간', '강사', '정규직', '무기', '환부', '기회', '과정', '결과', '위배', '기간', '강사', '애초', '계약', '일정', '기간', '동안', '동의', '계약', '기간', '동안', '동의', '정규직', '무기', '니요', '정규', '교사', '지속', '임용고시', '합격', '임용고시', '참여', '기간', '강사', '채용', '과정', '인맥', '학연', '작용', '공립', '사립', '불문', '인맥', '학연', '통해', '채용', '기간', '강사', '채용', '면접', '가면', '내정자', '나머지', '들러리', '경우', '또한', '정규', '교사', '거의', '대우', '월급', '약자', '행세', '다른', '회사', '비정규직', '전혀', '대우', '상황', '불구', '임용', '고시생', '청춘', '바치', '시험', '비용', '투자', '통해', '정교', '사가', '노력', '학교', '근무', '이유', '비정규직', '이유', '정규직', '무기', '무임', '승차', '과연', '기회', '평등', '과정', '공정', '결과', '절차', '피땀', '노력', '기간', '강사', '정규직', '무기', '직화', '중단', '공교육', '무너', '또한', '사항', '밀실', '논의', '과연', '소통']\n",
      "[(2, 0.94030684), (11, 0.04861869)]\n",
      "2 0.94030684\n",
      "\n",
      "\n",
      "6\n",
      "['기간', '교사', '정규직', '무기계약직', '전환', '반대', '영어', '전문', '강사', '스포츠', '강사', '무기계약직', '정규직', '전환', '반대', '임용고사', '시험', '정교', '사가', '길이', '기간', '교사', '절차', '또한', '또한', '교사', '교대', '사범대', '재학', '임용고사', '시험', '준비', '학생', '희망', '학교', '교육', '교육', '학생', '교사', '교과서', '중심', '학교', '교육', '일자리', '보지', '모두', '학생', '학부모', '대중', '여론', '대다수', '목소리', '소통', '약속', '공부', '절차', '정교', '사가', '목소리', '또한', '영어', '전문', '강사', '스포츠', '강사', '무기계약직', '전환', '헌법재판소', '합법', '판결', '헌법재판소', '사건번호', '근무', '근무', '무기계약직', '전환', '위헌', '전시', '고등법원', '판단', '헌법재판소', '판단', '아래', '헌법재판소', '판결', '참고', '중등교육', '시행', '영어', '회화', '강사', '기간', '임용', '기간', '이내', '경우', '계속', '근무', '기간', '초과', '범위', '기간', '연장', '규정', '기간', '단시간', '근로자', '보호', '법률', '단서', '시행', '해당', '무기계약직', '근로자', '간주', '대상', '제외', '사정', '영어', '회화', '강사', '경우', '기간', '근로자', '용기', '초과', '무기계약직', '근로자', '간주', '관계', '법령', '규정', '확정', '용이', '사건', '지침', '조항', '관계', '법령', '규정', '확정', '확인', '청구인', '법적', '지위', '영향', '따라서', '사건', '지침', '조항', '헌법소원', '대상', '공권력', '행사', '해당', '사건', '심판', '청구', '모두', '각하', '관여', '재판관', '전원', '일치', '의견', '주문', '결정']\n",
      "[(2, 0.48408383), (8, 0.04873102), (9, 0.22336973), (11, 0.23628882)]\n",
      "2 0.48408383\n",
      "\n",
      "\n",
      "7\n",
      "['광복', '맞이', '친일파', '청산', '보도', '연맹', '무고', '피해자', '보상', '집행', '광복', '주년', '청산', '일제', '잔재', '가슴', '친일파', '후손', '과거', '만행', '성과', '누리', '호의호식', '반대', '목숨', '독립운동가', '자녀', '시민', '보도', '연맹', '사건', '무고', '명예', '실추', '피해', '가운데', '바로', '서지', '이득', '떵떵거리', '산다', '누가', '희생', '조국', '목숨', '지위', '건물', '높이', '바람', '건물', '시간', '다시', '개간', '기초', '태풍', '건물', '기초', '건국', '주년', '조금', '과거', '부분', '기초', '다시', '가야', '시기', '이듭', '항상', '나랏일', '불철', '주야', '고생', '관계', '부처', '감사', '과거', '해결', '친일파', '해결']\n",
      "[(0, 0.6874805), (1, 0.06445995), (2, 0.23781563)]\n",
      "0 0.6874805\n",
      "\n",
      "\n",
      "8\n",
      "['아파트', '비리', '불법', '해임', '아파트', '회장', '청와대', '아파트', '비리', '맞선', '주자', '회장', '아파트', '비리', '타협', '비리', '주자', '회장', '불법', '해임', '지도', '감독', '구청', '엉터리', '조치', '분개', '자해', '아파트', '주민', '아파트', '각심', '경찰', '실체', '진실', '소문', '인권', '유린', '전국', '아파트', '공화국', '비리', '해결', '해법', '묘연', '공동', '주택', '특단', '조치', '필요', '헌법', '권리', '의무', '존중', '인간', '존엄성', '기본', '인권', '확인', '누구', '보장', '의무', '공무원', '전체', '봉사자', '로서', '행정', '민주', '능률', '운영', '민족', '충성', '봉사', '노력', '생명', '신체', '재산', '보호', '공공', '안녕', '질서', '유지', '사명', '경찰', '공무원', '근무', '명예퇴직', '최근', '동안', '시간', '연수', '대우', '삼환', '아파트', '주자', '대표', '회의', '회장', '이하', '아파트', '회장', '주자', '사용자', '보호', '주거', '생활', '질서', '유지', '청렴', '성과', '봉사', '정신', '아파트', '비리', '근절', '중점', '생활', '다가', '해임', '대표', '회의', '사실', '금전', '혜택', '봉사', '아파트', '주자', '대표', '회의', '대표', '이해', '아파트', '회장', '금방', '핵심', '자해', '행위', '사유', '정리', '아파트', '회장', '아파트', '민낯', '참으로', '가관', '아파트', '아파트', '회장', '직접', '경험', '대표', '전원', '봉사', '목적', '처음', '크게', '실망', '결정', '금전', '비리', '타협', '주민', '가지', '청렴', '생활', '선택', '공직자', '출신', '연금', '마당', '후자', '선택', '아파트', '회장', '결심', '아파트', '관리', '원칙', '세운', '결과', '기본', '화합', '대표', '술자리', '마음', '자제', '음으로', '갈등', '보통', '회식', '중간', '누군가', '인사', '참석', '속칭', '아파트', '사실', '누구', '상식', '화합', '회의', '시마', '노력', '해도', '기본', '다른', '강직', '밀고', '청렴', '적극', '중립', '나중', '신뢰', '주민', '하나', '시작', '아파트', '관리', '전혀', '관심', '주민', '대다수', '주자', '대표', '시선', '주지', '주자', '대표', '회의', '아파트', '관리소', '아파트', '건의', '아파트', '대하', '지적', '주민', '아주', '나중', '일이', '아파트', '관리소', '직원', '아파트', '행정', '불만', '건의', '아파트', '회장', '차단', '기도', '회장', '위함', '불만', '사항', '대부분', '회장', '전화번호', '아파트', '직접', '얘기', '직접', '확인', '바로', '시정', '여부', '관리소', '통고', '조치', '무한', '신뢰', '주신', '동생', '분도', '경우', '계속', '회장', '주민', '추천', '보궐선거', '출마', '당선', '대표', '선거', '갑자기', '의형제', '난기', '회장', '아파트', '전문', '지식', '모두', '신임', '아파트', '관리', '그냥', '입장', '초기', '회의', '대표', '나무', '각각으로', '주자', '대표', '다른', '목소리', '실망', '민주주의', '한편', '의형', '아파트', '시작', '주민', '봉사', '비리', '척결', '기준', '가지', '로서', '아파트', '행동', '대표', '사례', '아파트', '위탁', '관리', '회사', '기간', '위탁', '회사', '마감', '기간', '회사', '계약', '원칙', '격심', '사제', '아파트', '조건', '제한', '공고', '대표', '프리젠테이션', '의견', '투표', '결정', '누군가', '소개', '접근', '나중', '위탁', '관리', '회사', '임원', '업체', '회장', '접근', '다음', '가장', '장소', '얘기', '제시', '달라', '경험', '인생', '큰일', '경쟁', '입찰', '선택', '장치', '아파트', '비리', '감사원', '소속', '아파트', '입찰', '대행', '제도', '경쟁', '입찰', '순조', '누군가', '이해', '민원', '제기로', '회장', '직무', '태만', '고발', '얘기', '정도', '절차', '다섯', '민원', '절차', '위탁', '관리', '업체', '낙찰', '낙찰', '이틀', '여지', '민원', '제기', '구청', '처음', '확인', '팩스', '문서', '공고', '공문서', '행정명령', '낙찰', '회사', '법적', '조치', '대응', '결심', '민원', '제기', '누군가', '어거지', '민원', '제기로', '계속', '민원', '제기', '분위기', '저느', '무언가', '시작', '행정명령', '주자', '대표', '회의', '결정', '회의', '딴지', '대표', '만장일치', '낙찰', '회사', '계약', '계약', '감사', '참여', '아파트', '주민', '혼란', '결정', '계약', '행정청', '지시', '명령', '위반', '과태료', '끝내', '수가', '과태료', '부과', '라면', '회장', '해임', '더욱', '처리', '기본', '따라서', '부조리', '수가', '과태료', '부과', '대표', '회계', '업무', '전념', '감사', '비리', '사퇴', '정원', '감소', '상황', '선거', '구성원', '부족', '회의', '법률', '위법성', '착오', '주민', '공고', '상황', '대표', '모두', '상황', '감사', '대표', '나중', '항의', '따라서', '회의', '수가', '와중', '아파트', '세멘트', '덩어리', '통차', '상황', '발생', '회장', '긴급', '상황', '판단', '만약', '주민', '큰일', '수가', '회장', '권한', '즉시', '아파트', '진단', '진단', '결과', '승강기', '군데', '감사', '통고', '참여', '입찰', '즉시', '적격업체', '수리', '감사', '농간', '다시', '시작', '회의', '긴급', '공사', '회장', '모두', '구청', '민원', '제기', '발등', '스스로', '행위', '협박', '민원', '제기', '과태료', '부과', '노릇', '사실', '정의감', '분노', '한편', '아파트', '비리', '관심', '비밀리', '아파트', '비리', '회장', '해임', '미도', '계기', '비밀', '누군가', '감시', '약점', '잡기', '행동', '사실', '약점', '발견', '회의', '진행', '얘기', '안건', '처리', '언성', '회의', '반드시', '발언권', '하라', '회장', '방법', '동원', '아파트', '회장', '정치', '내공', '기분', '정기회', '대표', '작심', '기본', '안건', '얘기', '질타', '기본', '안건', '처리', '동월', '임시', '회의', '개최', '회의장', '자리', '서류', '회장', '해임', '안건', '안건', '처리', '아파트', '관리', '규약', '긴급', '안건', '감히', '부정', '동자', '평소', '아파트', '회장', '불만', '아주', '와중', '회장', '계속', '소명', '기회', '처리', '아파트', '대표', '거짓', '모함', '그대로', '회장', '사무실', '아파트', '관리', '규약', '무시', '불법', '해임', '안이', '통과', '아파트', '관리', '규정', '무시', '자체', '선거', '관리', '위원회', '사실', '아파트', '관리', '규약', '법적', '성질', '상위', '법인', '택법', '주택', '관리', '작성', '규정', '상황', '판례', '규정', '행정청', '구체', '문화', '아파트', '관리', '규정', '가지', '지도', '감독', '판례', '개인', '인권', '재산권', '침해', '대표', '선거', '법적', '효력', '판례', '법적', '효과', '회장', '해임', '의결', '과정', '관리', '규정', '불법', '회장', '해임', '진행', '처음', '위법', '아파트', '관리', '규정', '무시', '주민', '선거', '공고', '관리', '구청', '연수', '구청', '건축', '과장', '전화', '문자', '불법', '해임', '절차', '진행', '대표', '조치', '시기', '전화', '문자', '민원', '제기', '조치', '항의', '선거', '본적', '주민', '불법', '상황', '계속', '진행', '선거', '해임', '깜짝', '법적', '안정', '법적', '성질', '한번', '불법', '계속', '불법', '연수구', '청과', '중앙', '주택', '관리', '위원회', '민원', '제기', '실질', '주택', '지도', '감독', '지자체', '청장', '건축', '주택', '관리', '지자체', '엉터리', '지시', '명령', '아파트', '봉사', '명예', '인격', '손상', '기도', '아파트', '정기', '관리', '모함', '사기', '허위', '민원', '제기', '아주', '누군가', '계속', '민원', '제기', '민원', '제기', '정보', '보호', '주기', '누구', '인지도', '아파트', '회장', '판단력', '추진', '아파트', '과태료', '견제', '아파트', '관리', '규정', '과태료', '민원', '처리', '확인', '절차', '무시', '불법', '행정처분', '구청', '호소', '아파트', '회장', '입장', '설명', '담당자', '과장', '법적', '논쟁', '질서', '유지', '공동', '주택', '관리', '아파트', '관리', '규정', '왜곡', '해석', '법적', '안정', '성은', '사항', '듭니', '세대', '아파트', '관리', '아파트', '회장', '개월', '임기', '사실', '친구', '지인', '아파트', '회장', '직급', '절대', '얘기', '다만', '이제', '민간인', '정치', '사회생활', '도움', '몇몇', '주민', '추천', '출마', '당선', '임기', '막상', '대표', '청렴', '봉사', '정신', '행정처분', '구청', '민원', '민원', '첨부', '민원', '첨부', '구청', '답변', '결과', '답변', '규정', '규정', '불구', '불법', '사항', '거짓', '정당화', '제출', '사유', '가지', '판단', '행정처분', '리기', '현장', '확인', '확인', '검사', '조사', '행정', '권한', '직무', '포기', '위법', '민원', '처리', '위법', '마음', '만약', '이번', '해임', '처음', '불법', '무효', '처리', '자살', '경고', '사실', '전혀', '의사', '끝내', '무효', '결정', '리지', '법률', '전문가', '법원', '다투라', '성의', '답변', '한장', '등기', '금요일', '월요일', '도착', '전화', '답변', '병원', '성의', '답변', '공문서', '실망', '법원', '가면', '시간', '계산', '시간', '투자', '수가', '이제', '아파트', '파악', '상태', '조직', '만약', '인생', '라운드', '포기', '수가', '아파트', '가량', '연수구', '아파트', '구민', '거의', '대부분', '아파트', '비리', '말썽', '아파트', '정도', '아파트', '비리', '공화국', '공직자', '출신', '자신', '수가', '희생', '아파트', '비리', '경종', '아파트', '주민', '자기', '도둑', '현실', '관심', '아파트', '생활', '하라', '메시지', '전하', '고민', '자해', '통해', '사실', '자해', '고등학교', '부들부들', '손가락', '조금', '상처', '혈서', '공부', '본적', '정신', '정신병', '대표', '열렬', '지원', '격려', '해주시', '분과', '동네', '분산', '상가', '소주', '이번', '사태', '저런', '얘기', '아파트', '여러', '가지', '얘기', '분노', '무언가', '아파트', '아파트', '회장', '누군가', '이용', '무엇', '주민', '절약', '관리', '가슴', '청렴', '이번', '선거', '구청', '판단', '과태료', '상황', '서로', '교차', '무언가', '아파트', '비리', '무언가', '자해', '고통', '별로', '얼마', '인지', '얼마', '거실', '컴퓨터', '아들', '엄마', '알리', '와이프', '사실', '아들', '자고', '깜짝', '신고', '길병원', '응급', '처리', '입원', '예상', '언론', '아파트', '회장', '아파트', '비리', '자해', '뉴스', '신문', '취재', '고자', '각심', '여지', '구청', '담당자', '전화', '거기', '계세', '중략', '무효', '절대로', '순간', '명예퇴직', '사회생활', '절대로', '경찰서', '가지', '다짐', '퇴원', '오히려', '생활화', '운동', '해동검도', '허가증', '운동', '도구', '압수', '운동', '비운', '형사', '처분', '하니', '허망', '형사', '처분', '가장', '범죄', '처리', '자신', '진급', '성과', '주의', '범죄', '조사', '기본', '실체', '진실', '발견', '인권', '관심', '동료', '후배', '행위', '근무', '당시', '라운드', '인생', '타격', '법전', '무엇', '지도', '경찰', '언론', '근무', '상황', '경찰', '공직자', '출신', '간부', '퇴직', '사회생활', '얼마나', '현직', '아파트', '비리', '공화국', '매스컴', '평생', '목숨', '근무', '경찰', '파수', '승화', '아쉬움', '조직', '언론', '경험', '일이', '자기', '호주머니', '도둑', '관심', '경종', '김부선', '난방', '열사', '혼자', '공직자', '누구', '하나', '예방', '노력', '상황', '무리', '실체', '진실', '전혀', '관심', '경찰', '조직', '경찰', '조직', '자신', '언론', '진실', '왜곡', '사실', '시간', '동료', '경찰', '오해', '이해', '전화기', '악풀', '현실', '더욱', '퇴원', '민원', '제기', '첨부', '다시', '제출', '구청', '민원', '제기', '결정', '고심', '만약', '해임', '무효', '처리', '주택', '아파트', '관리', '규정', '지도', '감독', '구청', '계속', '지도', '감독', '현령', '현령', '명분', '행정행위', '이기', '행정관청', '언제', '지도', '감독', '염치', '이제', '아파트', '얼마나', '봉사자', '로서', '노력', '비리', '형태', '경험', '발견', '차단', '경우', '동냥', '아파트', '비리', '형태', '얘기', '사실', '회장', '주민', '관리', '세대', '관리', '감소', '실현', '기준', '정도', '공사', '절대', '여기', '봉사자', '근무', '방식', '주민', '주민', '아파트', '관리', '관심', '생활', '얘기', '주민', '분위기', '조금', '아파트', '비리', '위탁', '관리', '시기', '제의', '거부', '경계', '아파트', '경비', '업체', '보험사', '종합', '안전', '진단', '회사', '의무', '구분', '안전', '진단', '리베이트', '전기', '시설', '안전', '화재', '안전', '진단', '저수조', '청소', '대부분', '공사', '진행', '청소', '업체', '임시', '시장', '업자', '화요일', '아파트', '운영', '아파트', '페인트', '업자', '난방', '시설', '업자', '아파트', '회장', '일체', '거절', '얼마', '대우', '삼환', '아파트', '아파트', '회장', '소문', '업자', '회장', '기존', '업자', '계속', '진행', '으리', '듭니', '공사', '업체', '아파트', '계속', '업체', '공사', '아파트', '대표', '대표', '하나', '소개', '태양열', '공사', '안건', '제출', '비용', '억원', '주민', '관리', '태양열', '전문가', '확인', '진단', '처음', '태양열', '장비', '옥상', '설계', '만약', '그대로', '제안', '수용', '아주', '소재', '부실', '공사', '금방', '아파트', '비리', '형태', '아파트', '사시', '금액', '부풀리기', '회사', '계속', '주기', '공사', '입찰', '액수', '이하', '공사', '공사', '공사', '대상', '공사', '여러', '가지', '법망', '피해', '아파트', '대부분', '아파트', '회장', '혼란', '좌지우지', '막강', '권력', '대표', '일명', '깡패', '동원', '검도', '실력', '소문', '구청', '담당자', '편파', '법적', '지식', '연구', '로서', '관성', '지도', '감독', '대부분', '담당자', '주택', '관리사', '자격증', '단위', '계약', '곤혹', '타협', '비리', '구멍', '구나', '듭니', '민원', '제기', '확인', '이번', '불법', '선거', '확인', '처리', '제일', '대표', '관리소', '대표', '회장', '감시', '약점', '약점', '운영', '대하', '시비', '대우', '삼환', '아파트', '공동', '주택', '위탁', '관리', '운영', '문제점', '시정', '요구', '대표', '관례', '업무', '추진', '관례', '라면', '주먹구구', '비리', '대표', '싸움', '스스로', '사퇴', '사퇴', '아파트', '회장', '사항', '일부', '잘못', '책임', '전가', '주자', '대표자', '전부', '사항', '혼자', '발생', '회장', '혼자', '삼지', '협박', '사표', '의미', '아파트', '진행', '구청', '민원', '제기', '과태료', '스스로', '대표', '지도', '감독', '민원', '행정조사', '무조건', '과태료', '행정행위', '처리', '민원', '처리', '확인', '처리', '일부', '처리', '편파', '지식', '가장', '주민', '관리', '관심', '결정', '아파트', '비리', '공화국', '진정', '끝내', '아파트', '대형', '비리', '업자', '노력', '헛수고', '관내', '경찰서', '사실', '얘기', '당부', '인원', '수가', '상황', '또한', '청춘', '경찰', '근무', '활동', '가지', '부언', '먼저', '인천', '국제공항', '경찰대', '창설', '핵심', '역할', '특수', '경비원', '시절', '임시', '속성', '교육', '정도', '배출', '공항', '시설', '경비', '수익', '부담', '원칙', '전환', '항공사', '동안', '전투경찰대', '경찰', '지휘', '보안', '검색', '전수', '탐색', '보통', '개월', '판별', '방법', '테러', '활동', '최선', '사과', '드라이빙', '배우자', '포스코', '로부터', '지원', '요청', '전국', '최우수', '성과', '기록', '전국', '경찰', '발표', '반응', '사이버', '경찰청', '홈페이지', '베너', '활용', '공항', '경찰대', '사과', '근무', '월드컵', '성공', '유공', '훈장', '훈장', '헌법', '영전', '수가', '중국', '산동성', '활성화', '단독', '산동성', '담판', '사회주의', '특성', '경시', '중국', '설득', '표창', '항만', '질서', '유공', '해양수산부', '장관', '표창', '또한', '헌혈', '기록', '헌혈', '유공', '포장', '여기', '경찰청장', '표창', '간부', '후보', '고시생', '지도', '교수', '유공', '경찰', '최우수', '논문', '경찰', '사격', '교본', '교안', '작성', '유공', '경찰', '행정', '유공', '근무', '우수', '유공', '표창', '무엇', '첩보', '발굴', '터키', '리비아', '어선', '위장', '총기', '폭탄', '밀수출', '첩보', '발굴', '정보화', '미국', '해군', '첩보', '부대', '합동', '검거', '사례', '미국', '역사상', '외국', '경찰', '정보', '검거', '최초', '사례', '리버', '미국', '대사', '친서', '이후', '계기', '경찰', '외교', '유공', '전라도', '성격', '경정', '계급', '정년', '대비', '인하대', '다문화', '범죄', '박사', '호로', '취득', '서장', '끝내', '경쟁자', '아쉬움', '명예', '퇴직', '특단', '조치', '취하', '여야', '가량', '아파트', '주택', '아파트', '활동', '대책', '또한', '얘기', '재건축', '아파트', '신축', '아파트', '조직', '폭력배', '활동', '공동', '주택', '가칭', '창설', '특별', '사법권', '활동', '대책', '참고', '연수', '대우', '삼환', '아파트', '회장', '선계훈', '배상', '민원', '제기', '수신', '인천', '연수구', '청장', '참조', '건축', '과장', '공동', '주택', '제목', '대우', '삼환', '아파트', '회장', '불법', '해임', '무효', '민원', '기자', '대우', '삼환', '아파트', '주자', '대표', '회의', '회장', '선계훈', '귀청', '무궁', '발전', '민원', '제기', '대우', '삼환', '아파트', '불법선거', '불법', '해임', '다음', '민원', '제기', '오니', '감독', '귀청', '법적', '절차', '판단', '무효', '여부', '판단', '시기', '선거', '장소', '선거', '방법', '적정', '여부', '선거', '장소', '그림', '선거', '방법', '관리', '과장', '경비', '소집', '투표', '용지', '투표', '관리', '교육', '경비', '선거', '관여', '호수', '주민', '명부', '이름', '책상', '투표', '용지', '공개', '투표', '투입', '투표', '명부', '세대', '누가', '투표', '확인', '작성', '투표', '투표소', '항상', '주민', '확인', '투표', '담당', '참관인', '경비', '자주', '전체', '주민', '확인', '투표', '인명', '부세', '대별', '성명', '기록', '명부', '주민', '등록증', '확인', '명도', '확인', '경비', '식사', '화장실', '투표', '투표', '안내서', '글자', '관심', '주민', '무조건', '찬성', '기표', '유임', '오인', '투표', '주민', '회장', '유임', '관심', '주민', '실수', '양쪽', '중간', '무효표', '처리', '증인', '회장', '유임', '찬성', '오인', '주민', '주민', '김태', '전화', '녹음', '투표', '반드시', '확인', '시기', '회장', '해임', '안건', '절차', '정당성', '여부', '연수', '대우', '삼환', '아파트', '공동', '주택', '규약', '제안', '제안', '안건', '채택', '대표', '회의', '소명', '확인', '답변', '현장', '회의', '진행', '본인', '사실', '기록', '동안', '전혀', '회장', '해임', '안건', '상황', '동일', '회의장', '대표', '회장', '책상', '서류', '확인', '서류', '처음', '소장', '안건', '통고', '적도', '당일', '안건', '포함', '전부', '회장', '자리', '안건', '처리', '회장', '회의', '소집', '통고', '안건', '처리', '법적', '절차', '상황', '대표자', '해임', '대표', '회의', '소명', '기회', '안건', '성격', '바로', '법적', '절차', '위반', '상황', '녹음', '불법', '자리', '불법행위', '가결', '포기', '행동', '사실', '거짓', '자살', '소명', '여부', '소명', '반드시', '대표자', '해임', '규정', '대표', '회의', '안건', '외치', '대표', '회의', '한번', '역시', '한번', '참석', '대표자', '해임', '주자', '대표', '회의', '구성원', '과반수', '찬성', '의결', '선거', '관리', '위원회', '해임', '절차', '요청', '유추해석', '혼수상태', '해석', '대표', '회의', '소명', '기회', '소명', '투표', '이번', '소명', '불법', '안건', '선거', '관리', '위원회', '절차', '불법', '사항', '절차', '불법', '반드시', '답변', '시기', '선거', '관리', '위원회', '소명', '여부', '선거', '관리', '위원장', '교장', '선생님', '출신', '중략', '한번', '중략', '전화', '통화', '녹음', '동네', '어르신', '얘기', '해명', '장래', '참석', '말씀', '수신', '선거', '관리', '위원장', '해명', '예의', '소명', '먼저', '작성', '참석', '상황', '설명', '벌떼', '서류', '소명', '거짓', '선전', '무엇', '자살', '왜곡', '전화', '선관위', '소명', '기관', '해명', '얘기', '위로', '전화', '녹음', '법적', '소명', '소명', '답변', '시기', '귀청', '연수구', '행정관청', '주민', '생활', '당사자', '정신', '고통', '주민', '고통', '무효', '처리', '시기', '민원', '기합', '상기', '사항', '자료', '만약', '거짓', '경우', '처분', '감수', '대우', '삼환', '아파트', '회장', '민원', '제기', '수신', '인천', '연수구', '청장', '참조', '건축', '과장', '제목', '대우', '삼환', '아파트', '회장', '불법', '해임', '시정', '조치', '무효', '민원', '대우', '삼환', '아파트', '주자', '대표', '회의', '회장', '선계훈', '구민', '살기', '연수구', '시기', '민원', '기자', '아파트', '불법선거', '불법', '해임', '민원', '제기', '불리', '성격', '답변', '오직', '진실', '왜곡', '불법', '감히', '공직', '가치', '책임', '회피', '답변', '다음', '규정', '막강', '권력', '헌법', '헌법', '지위', '책임', '공무원', '전체', '봉사자', '대하', '책임', '국가공무원', '복무', '공무원', '법령', '준수', '직무', '수행', '행정절차법', '행정청', '행정', '작용', '구체', '공동', '주택', '관리', '시행', '관리', '규약', '특별시', '광역시', '특별자치시', '도지사', '특별자치도', '지사', '이하', '도지사', '주택', '자등', '보호', '주거', '생활', '질서', '유지', '대통령령', '주택', '관리', '사용', '거가', '관리', '규약', '준칙', '신고', '대표', '회의', '회장', '관리', '규약', '제정', '경우', '사업', '주체', '다음', '호의', '사항', '대통령령', '시장', '청장', '신고', '신고', '사항', '변경', '경우', '또한', '감독', '지방자치단체', '주택', '관리', '효율', '자등', '보호', '다음', '호의', '하나', '해당', '경우', '자등', '대표', '회의', '구성원', '관리', '주체', '관리', '사무소', '선거', '관리', '위원회', '위원', '대통령령', '업무', '사항', '거나', '자료', '제출', '명령', '소속', '공무원', '영업소', '관리', '사무소', '출입', '주택', '시설', '장부', '서류', '조사', '검사', '경우', '출입', '검사', '공무원', '권한', '증표', '지니', '관계', '감사', '경우', '명령', '처분', '위반', '조치', '경우', '공동', '주택', '단지', '분쟁', '조정', '경우', '공동', '주택', '시설', '물의', '안전', '관리', '경우', '주자', '대표', '회의', '공동', '주택', '관리', '규약', '위반', '경우', '주택', '관리', '감독', '경우', '주택', '자등', '항제', '해당', '경우', '전체', '자등', '동의', '지방자치단체', '대표', '회의', '구성원', '관리', '주체', '관리', '사무소', '선거', '관리', '위원회', '위원', '업무', '대하', '감사', '요청', '경우', '감사', '요청', '사유', '소명', '뒷받침', '자료', '첨부', '서면', '공동', '주택', '관리', '시행', '감독', '대통령령', '업무', '다음', '호의', '업무', '대표', '회의', '구성', '의결', '관리', '주체', '관리', '사무소', '업무', '자치', '관리', '기구', '구성', '운영', '관리', '규약', '제정', '개정', '시설', '물의', '안전', '관리', '주택', '안전', '점검', '장기', '수선', '계획', '장기', '수선', '충당금', '업무', '행위', '허가', '신고', '주택', '관리', '업무', '관리', '규정', '자치', '규범', '사적자치', '원칙', '적용', '위임', '아파트', '관리', '규정', '세부', '구체화', '관리', '규정', '법적', '효과', '민원', '제기', '성격', '제시', '민원', '재차', '제기', '귀청', '전문성', '판단', '요구', '무효', '시정', '여부', '판단', '임기', '감안', '아파트', '운영', '지장', '최대한', '구체', '답변', '민원', '기자', '무효', '유효', '시정', '조치', '답변', '판단력', '직관', '참으로', '현실', '그냥', '보아', '참으로', '일이', '선거', '장소', '선거', '방법', '적정', '여부', '선거', '방법', '정당성', '여부', '관리', '과장', '경비', '소집', '투표', '용지', '투표', '관리', '교육', '경비', '선거', '관여', '호수', '주민', '명부', '이름', '책상', '투표', '용지', '공개', '투표', '투입', '투표', '명부', '세대', '누가', '투표', '확인', '작성', '투표', '참관인', '투표', '진행', '신분증', '확인', '투표', '경비원', '화장실', '요강', '투표', '현장', '선거인명부', '지도', '확인', '시기', '투표소', '항상', '주민', '확인', '투표', '담당', '참관인', '경비', '자주', '전체', '주민', '확인', '투표', '인명', '부세', '대별', '성명', '기록', '명부', '주민', '등록증', '확인', '명도', '확인', '경비', '식사', '화장실', '투표', '투표', '안내서', '글자', '관심', '주민', '무조건', '찬성', '기표', '유임', '오인', '투표', '주민', '회장', '유임', '관심', '주민', '실수', '양쪽', '중간', '무효표', '처리', '증인', '회장', '유임', '찬성', '오인', '주민', '주민', '김태', '전화', '녹음', '투표', '반드시', '현장', '조사', '확인', '민원', '제기', '입장', '확인', '답변', '시기', '증인', '자료', '회장', '해임', '안건', '절차', '정당성', '여부', '연수', '대우', '삼환', '아파트', '공동', '주택', '규약', '제안', '제안', '안건', '채택', '대표', '회의', '소명', '확인', '답변', '현장', '회의', '진행', '본인', '사실', '기록', '동안', '전혀', '회장', '해임', '안건', '상황', '동일', '회의장', '대표', '회장', '책상', '서류', '확인', '서류', '처음', '소장', '안건', '통고', '적도', '당일', '안건', '포함', '전부', '회장', '자리', '안건', '처리', '회장', '회의', '소집', '통고', '안건', '처리', '법적', '절차', '상황', '대표자', '해임', '대표', '회의', '소명', '기회', '안건', '성격', '바로', '법적', '절차', '위반', '상황', '녹음', '불법', '자리', '불법행위', '가결', '포기', '행동', '사실', '거짓', '천명', '안건', '여부', '소명', '반드시', '대표자', '해임', '규정', '대표', '회의', '안건', '외치', '대표', '회의', '역시', '참석', '대표자', '해임', '주자', '대표', '회의', '구성원', '과반수', '찬성', '의결', '선거', '관리', '위원회', '해임', '절차', '요청', '유추해석', '규정', '다른', '해석', '대표', '회의', '소명', '기회', '소명', '투표', '이번', '소명', '불법', '안건', '선거', '관리', '위원회', '절차', '불법', '사항', '오정호', '주무관', '직접', '녹취', '절차', '불법', '반드시', '답변', '시기', '긴급', '발의', '관리', '규정', '용어', '굳이', '긴급', '관리', '규정', '무시', '긴급', '발의', '언급', '사유', '타당', '답변', '시기', '민원', '기자', '언급', '신뢰', '성과', '성실', '정성', '의심', '이유', '반드시', '시기', '또한', '회장', '해임', '회장', '긴급', '발의', '사항', '인지도', '답변', '시기', '회장', '해임', '사항', '긴급', '안건', '사항', '인지도', '답변', '선거', '관리', '위원회', '해명', '여부', '선거', '관리', '위원장', '교장', '선생님', '출신', '중략', '한번', '중략', '전화', '통화', '녹음', '동네', '어르신', '얘기', '해명', '장래', '참석', '말씀', '수신', '선거', '관리', '위원장', '해명', '예의', '소명', '먼저', '작성', '참석', '상황', '설명', '선거', '관리', '선거', '진행', '기관', '집행', '기관', '소명', '해명', '현장', '선관위', '원장', '확인', '선관위', '자료', '신자', '누구', '반드시', '확인', '시기', '사태', '예상', '선관위', '원장', '전화', '선관위', '소명', '기관', '오라', '얘기', '위로', '전화', '녹음', '위임', '제정', '관리', '규정', '절차', '법적', '효과', '소명', '소명', '답변', '시기', '확인', '사항', '능력', '사법', '기관', '전문가', '사실', '사실', '판단', '응원', '답변', '시기', '법원', '판단', '답변', '직무', '포기', '재판', '유도', '업무', '회피', '직관', '공무원', '현장', '출장', '비용', '시간', '상태', '전문가', '로부터', '확인', '공증', '얼마', '기관', '마찬가지', '녹취', '선거', '이건', '불법', '참관인', '공개투표', '선거', '부정', '선거', '선거', '투표', '용지', '착각', '얘기', '한재', '건축', '과장', '문자', '불법', '해임', '진행', '제기', '한재', '과장', '공무원', '수가', '답장', '금연', '대우', '삼환', '아파트', '회장', '절차', '언긴', '불법', '해임', '진행', '중지', '대표', '행정', '조치', '이메일', '민원', '제기', '민원', '처리', '법률', '처리', '담당자', '의무', '민원', '처리', '담당자', '담당', '민원', '공정', '친절', '처리', '권리', '의무', '민원', '행정기관', '민원', '신청', '공정', '친절', '응답', '권리', '신청', '민원', '신청', '문서', '전자정부', '전자문서', '포함', '이하', '다만', '민원', '구술', '전화', '접수', '행정기관', '민원', '신청', '다른', '법령', '규정', '경우', '제외', '접수', '보류', '거나', '거부', '접수', '민원', '문서', '신뢰보호', '행정청', '직무', '수행', '신의', '행정청', '법령', '해석', '행정청', '관행', '일반', '공익', '자의', '이익', '현저', '우려', '경우', '제외', '해석', '관행', '소급', '처리', '전문', '개정', '과장', '전혀', '조치', '행위', '불법', '판단', '시기', '담당자', '도저히', '결론', '전체', '주민', '공청회', '통한', '토론', '연수구', '청장', '포함', '공무원', '공청회', '제안', '지도', '감독', '현장', '중심', '민주', '사실', '모두', '확인', '방안', '증거', '주민', '증언', '해임', '유무', '행정', '판단', '진실', '무엇', '조속', '시일', '답변', '오정호', '주무관', '통화', '거기', '계세', '절대', '무효', '공정', '성과', '감정', '격앙', '말로', '민원', '기자', '이유', '무엇', '편파', '예상', '감정', '중차', '사건', '처리', '이유', '감정', '다만', '절차', '판단', '심정', '답변', '아파트', '관리', '규정', '법적', '효과', '답변', '시기', '인천', '아파트', '대부분', '연수구', '아파트', '중차', '사항', '아파트', '비리', '구민', '오늘', '아파트', '비리', '사람과', '누가', '보탬', '답변', '시기', '이번', '해임', '인과관계', '질문', '답변', '공직자', '다운', '면모', '시기', '구민', '공무원', '아파트', '불법', '것입', '진정', '공직', '가치', '직관', '청렴', '공무원', '귀청', '연수구', '행정관청', '구민', '생활', '당사자', '정신', '고통', '구민', '고통', '조사', '검사', '구민', '공무원', '책임감', '책무', '가감', '피하', '시정', '조치', '무효', '처리', '시기', '민원', '기합', '상기', '사항', '자료', '만약', '거짓', '경우', '처분', '감수', '대신', '재판', '가라', '성의', '답변', '오지', '대우', '삼환', '아파트', '회장', '민원', '제기', '수신', '인천', '연수구', '청장', '참조', '건축', '과장', '제목', '아파트', '관리', '규범', '법적', '성격', '민원', '아파트', '연수구', '가량', '파트', '대다수', '아파트', '거주', '살기', '연수구', '만들기', '귀청', '법적', '행정행위', '발전', '아파트', '관리', '규범', '성격', '판단', '아주', '민원', '점점', '아파트', '관리', '규범', '법적', '효과', '사항', '구분', '마치', '민법', '형법', '혼용', '성격', '판단', '규정', '성격', '실체', '진실', '실현', '성문법', '성격', '구성', '규정', '나열', '법적', '성격', '부정', '과태료', '행정처분', '사실', '법적', '효과', '공동', '주택', '관리', '택법', '판례', '위탁', '관리', '회사', '선정', '대위', '선거', '해임', '행정절차', '규정', '건교부', '관리', '규약', '준칙', '해명', '강제', '참고', '사항', '법적', '구속력', '행정입법', '해당', '보아', '다음', '사항', '참고', '오류', '여부', '판단', '답변', '주시', '아파트', '관리', '규약', '성격', '건교부', '지시', '관리', '규약', '준칙', '법적', '성질', '지난', '말경', '건교부', '관리', '규약', '준칙', '제정', '시도', '관리', '규약', '준칙', '제정', '택법', '도지사', '주택', '주자', '사용자', '보호', '주거', '생활', '질서', '유지', '대통령령', '주택', '관리', '사용', '거가', '공동', '주택', '관리', '규약', '준칙', '규정', '도지사', '고유', '권한', '전국', '아파트', '대표', '회의', '연합', '이하', '아연', '관리', '규약', '준칙', '제정', '권한', '건교부', '관리', '규약', '준칙', '제정', '시도', '주민', '자치권', '침해', '국정', '홍보', '진정', '우선', '관리', '규약', '준칙', '법적', '성질', '무엇', '인지', '논의', '전제', '건교부', '관리', '규약', '준칙', '강제', '것이므', '반드시', '준수', '의무', '참고', '사항', '해명', '건교부', '해명', '관리', '규약', '준칙', '제정', '법률', '규정', '입법', '취지', '망각', '자의', '해명', '행정주체', '제정', '준칙', '행정입법', '해당', '보아', '따라서', '행정주체', '법적', '근거', '준칙', '제정', '법적', '근거', '준칙', '무효', '것이므', '준칙', '준수', '의무', '관리', '규약', '준칙', '법적', '근거', '법적', '근거', '제정', '준칙', '행정입법', '해당', '보아', '건교부', '관리', '규약', '준칙', '법적', '성질', '오해', '관리', '규약', '준칙', '임의', '제정', '시도', '비난', '가능성', '관리', '규약', '준칙', '행정입법', '행정주체', '건교부', '시도', '임의', '제정', '반드시', '제정', '근거', '범위', '규정', '이유', '주택', '건설', '촉진법', '근거', '공동', '주택', '관리', '도지사', '주택', '주자', '보호', '주거', '생활', '질서', '유지', '범위', '항의', '관리', '규약', '준칙', '규정', '행정주체', '관리', '규약', '준칙', '제정', '권한', '주자', '보호', '주거', '생활', '질서', '유지', '제한', '인정', '취지', '준칙', '행정입법', '법적', '성질', '인정', '취지', '택법', '시행', '부칙', '주자', '시행일', '이내', '종전', '관리', '규약', '항의', '규정', '개정', '관리', '규약', '준칙', '다라', '규정', '보아', '건교부', '관리', '규약', '준칙', '해명', '강제', '참고', '사항', '법적', '구속력', '행정입법', '해당', '보아', '아파트', '관리', '규약', '자치', '법규', '대법', '아파트', '관리', '규약', '자치', '법규', '로서', '집합건물법', '공동', '주택', '관리', '구분', '소유자', '특별', '승계', '효력', '집합', '건물', '다수', '공동', '유사', '건물', '헌법', '다른', '법령', '규정', '규약', '구분', '소유자', '특별', '승계', '권리', '제한', '허용', '규약', '구분', '소유자', '이외', '자의', '권리', '해하', '집합건물법', '항의', '규정', '구분', '소유자', '규약', '제정', '당시', '구분', '소유자', '규약', '제정', '구분', '소유자', '포함', '규약', '구분', '소유자', '특별', '승계', '권리', '제한', '규정', '집합건물법', '특별', '승계', '유부', '관리', '승계', '근거', '규정', '다수', '의견', '주자', '체납', '관리', '유부', '특별', '승계', '승계', '경우', '유부', '유부', '관리', '구분', '분쟁', '소유자', '로부터', '유부', '체납', '관리', '징수', '사실', '부담', '관리', '상승', '유부', '다른', '구분', '소유자', '전가', '현실', '발생', '아파트', '주자', '체납', '관리', '유부', '유부', '구분', '전부', '특별', '승계', '승계', '주택', '관리', '규약', '법규', '특성', '주택', '관리', '판례', '청주지방법원', '행정부', '판결', '구합', '기존', '관리', '규약', '효력', '상태', '관리', '규약', '정이', '택법', '시행', '관리', '규약', '준칙', '따라서', '대표자', '선출', '대표', '회장', '선출', '법적', '판례', '개정', '주택', '법령', '조항', '아파트', '관리', '규약', '준칙', '사항', '배치', '사건', '아파트', '기존', '관리', '규약', '조항', '효력', '사건', '아파트', '주자', '자치', '규범', '아파트', '주자', '대표', '회의', '선출', '구성', '관리', '규약', '상태', '실시', '대표자', '선출', '주자', '대표', '회의', '구성은', '비록', '선출', '절차', '개정', '택법', '시행', '충청북도', '관리', '규약', '준칙', '위배', '유효', '인정', '의문', '부정', '결론', '판례', '관리', '규약', '주택', '자치', '법규', '따라서', '관리', '규약', '택법', '택법', '시행', '주택', '관리', '규약', '법적', '위계', '질서', '상위', '법령', '위배', '도등', '감독', '행정청', '제정', '관리', '규약', '준칙', '주자', '자치', '규범', '아파트', '관리', '규약', '대신', '대표자', '선출', '주자', '대표', '회의', '자치', '규범', '관리', '규약', '따라서', '것등', '주택', '관리', '의의', '판례', '대상', '판례', '청주지방법원', '행정부', '판결', '구합', '사건', '주자', '대표', '회의', '구성', '신고', '반려', '처분', '취소', '사건', '주자', '대표', '회의', '회장', '군수', '감독', '행정청', '사건', '개요', '대표', '회의', '해산', '아파트', '이장', '조직', '회의', '아파트', '대표자', '선출', '대표', '회의', '구성', '결정', '아파트', '관리소', '결정', '선거', '관리', '위원회', '구성', '대표자', '선출', '주자', '대표', '회의', '회장', '선출', '주자', '대표', '회의', '성신고', '감독', '택법', '시행', '공동', '주택', '관리', '규약', '준칙', '개정', '시행', '개정', '일로', '개월', '경과', '사건', '아파트', '관리', '규약', '반드시', '개정', '먼저', '필자', '보충', '사건', '아파트', '관리', '규약', '개정', '주자', '대표', '회의', '구성', '신고', '관리', '규약', '개정', '개정', '관리', '규약', '대표자', '선출', '주자', '임원', '구성', '신고', '사항', '절차', '성신고', '필자', '보충', '관계', '법령', '이유', '사건', '성신고', '반려', '대하', '원고', '불복', '반려', '처분', '이하', '사건', '처분', '취소', '청구', '사건', '재판', '대하', '원고', '청구', '이유', '판결', '조항', '택법', '관리', '관리', '주체', '주택', '부대', '시설', '복리', '시설', '포함', '이하', '명령', '관리', '요구', '요구', '개월', '이내', '대표', '회의', '구성', '주택', '관리', '방법', '결정', '주택', '관리', '업자', '위탁', '관리', '방법', '선택', '경우', '주택', '관리', '업자', '선정', '포함', '사업', '주체', '통지', '관할', '시장', '군수', '청장', '신고', '도지사', '주택', '주자', '사용자', '보호', '주거', '생활', '질서', '유지', '대통령령', '주택', '관리', '사용', '거가', '공동', '주택', '관리', '규약', '이하', '관리', '규약', '준칙', '주자', '사용자', '관리', '규약', '준칙', '참조', '관리', '규약', '택법', '시행', '대표자', '선거', '관리', '자등', '대표', '회의', '회장', '감사', '대표자', '민주', '선출', '해임', '경우', '포함', '이하', '자체', '선거', '관리', '위원회', '이하', '선거', '관리', '위원회', '구성', '세대', '주택', '선거', '관리', '위원회', '법제', '선거', '관리', '위원회', '소속', '직원', '관리', '규약', '위원', '위촉', '선거', '관리', '위원회', '구성원', '과반수', '찬성', '의사', '결정', '경우', '선출', '관리', '규약', '사항', '선거', '관리', '위원회', '규정', '관리', '규약', '준칙', '도지사', '관리', '규약', '준칙', '다음', '호의', '사항', '포함', '경우', '주택', '자등', '자의', '기본', '권리', '해하', '사항', '포함', '생략', '부칙', '대표자', '선출', '용례', '개정', '규정', '시행', '최초', '대표자', '대표', '회의', '임원', '선출', '공고', '적용', '항의', '개정', '규정', '시행', '최초', '선출', '대표자', '적용', '관리', '규약', '준칙', '개정', '경과', '조치', '도지사', '시행', '개월', '경과', '관리', '규약', '준칙', '개정', '주택', '대표', '회의', '시행', '개월', '경과', '관리', '규약', '준칙', '해당', '주택', '관리', '규약', '개정', '경우', '관리', '주체', '관리', '규약', '개정', '행정', '사무', '업무', '협조', '원고', '주장', '판결', '원고', '주장', '사건', '원고', '주장', '다음', '사건', '아파트', '대표', '회의', '해산', '관리', '규약', '개정', '상태', '피고', '소속', '공무원', '사건', '아파트', '행정', '책임자', '이장', '먼저', '대표', '회의', '구성', '관리', '규약', '개정', '조언', '정은', '관리', '규약', '개정', '상태', '개정', '택법', '시행', '충청북도', '관리', '규약', '준칙', '절차', '방법', '대표자', '선출', '대표', '회의', '구성', '사건', '처분', '신의칙', '신뢰보호', '원칙', '위법', '사건', '아파트', '대표', '회의', '해산', '관리', '규약', '개정', '상태', '관계', '법령', '관리', '규약', '먼저', '개정', '대표', '회의', '구성', '명시', '규정', '관리', '규약', '먼저', '개정', '대표', '회의', '구성', '현행', '택법', '절차', '사건', '아파트', '대표', '회의', '개정', '택법', '시행', '충청북도', '관리', '규약', '준칙', '절차', '방법', '대표자', '선출', '대표', '회의', '구성', '사건', '처분', '재량', '남용', '위법', '판결', '사건', '재판', '부의', '판결', '다음', '신뢰보호', '원칙', '위반', '주장', '대하', '피고', '사건', '아파트', '비롯', '관할', '구역', '내의', '공동', '주택', '주자', '대표', '회의', '회장', '택법', '시행', '충청북도', '관리', '규약', '준칙', '개정', '주택', '관리', '규약', '개정', '촉구', '비롯', '차례', '관리', '규약', '개정', '촉구', '사실', '인정', '비롯', '사건', '아파트', '주자', '피고', '소속', '공무원', '사건', '아파트', '내의', '경로당', '준공', '승인', '방법', '문의', '당시', '하은', '준공', '승인', '방법', '하나로', '대표', '회의', '구성', '제시', '사실', '당시', '관리', '규약', '개정', '이전', '대표', '회의', '먼저', '구성', '제시', '더욱이', '가사', '피고', '실무', '공무원', '하이', '관리', '규약', '개정', '먼저', '대표', '회의', '구성', '조언', '가정', '피고', '공적', '견해', '표명', '수도', '따라서', '피고', '관리', '규약', '개정', '이전', '대표', '회의', '먼저', '구성', '조언', '공적', '견해', '표명', '전제', '원고', '부분', '주장', '이유', '재량', '남용', '주장', '대하', '주택', '관리', '규약', '공동', '주택', '주자', '주거', '생활', '안정', '질서', '유지', '주자', '권리', '의무', '주택', '자치', '관리', '기구', '대표', '회의', '구성', '방법', '권한', '책임', '주자', '과반수', '동의', '주택', '주자', '효력', '자치', '법규', '최초', '구성', '주자', '대표', '회의', '대표', '회의', '해산', '이후', '다시', '구성', '경우', '주택', '관리', '규약', '절차', '방법', '대표', '회의', '구성', '한편', '택법', '시행', '대통령령', '호로', '개정', '대표', '회의', '구성원', '대표', '회의', '구성', '대표자', '선출', '방법', '대표자', '결격', '사유', '선출', '대표자', '주자', '대표', '회의', '임원', '선출', '방법', '구체', '도지사', '관리', '규약', '준칙', '최초', '제정', '관리', '규약', '개정', '절차', '방법', '부칙', '도지사', '택법', '시행', '시행', '개월', '경과', '관리', '규약', '준칙', '개정', '주택', '대표', '회의', '택법', '시행', '시행', '개월', '경과', '관리', '규약', '준칙', '주택', '관리', '규약', '개정', '규정', '개정', '택법', '시행', '대표', '회의', '회장', '감사', '대표자', '주택', '사항', '결정', '기존', '택법', '시행', '선출', '방식', '임기', '규정', '혼란', '야기', '세대', '주택', '경우', '대표', '회의', '회장', '감사', '주자', '직접', '투표', '선출', '대표자', '임기', '차례', '중임', '명시', '규정', '주택', '관리', '분쟁', '방지', '주자', '주거', '생활', '안정', '목적', '개정', '또한', '부칙', '기한', '도지사', '관리', '규약', '준칙', '마련', '대표', '회의', '관리', '규약', '준칙', '기존', '관리', '규약', '개정', '기한', '경과', '관리', '규약', '개정', '경우', '개정', '주택', '법령', '위배', '기존', '관리', '규약', '조항', '효력', '유지', '따라서', '대표', '회의', '구성', '관리', '행위', '유효', '인정', '법리', '개정', '주택', '법령', '조항', '아파트', '관리', '규약', '준칙', '사항', '배치', '사건', '아파트', '기존', '관리', '규약', '조항', '효력', '사건', '아파트', '주자', '자치', '규범', '아파트', '주자', '대표', '회의', '선출', '구성', '관리', '규약', '상태', '실시', '대표자', '선출', '주자', '대표', '회의', '구성은', '비록', '선출', '절차', '개정', '택법', '시행', '충청북도', '관리', '규약', '준칙', '위배', '유효', '인정', '또한', '사건', '아파트', '관리', '규약', '개정', '기존', '관리', '규약', '가정', '사건', '아파트', '대표', '자치', '규범', '기존', '관리', '규약', '절차', '법성', '인정', '따라서', '사건', '아파트', '관리', '규약', '현행', '주택', '법령', '충청북도지사', '아파트', '관리', '규약', '준칙', '먼저', '개정', '다음', '따라서', '대표', '회의', '구성', '피고', '주장', '타당', '원고', '사건', '아파트', '대표', '회의', '해산', '관리', '규약', '개정', '장하나', '대표', '회의', '존재', '택법', '시행', '주자', '연서', '관리', '사무소', '주자', '관리', '규약', '개정', '제안', '주자', '과반수', '동의', '관리', '규약', '개정', '원고', '부분', '주장', '이유', '사건', '아파트', '대표', '회의', '위법', '절차', '구성', '보지', '위법', '절차', '구성', '대표', '회의', '구성', '고서', '반려', '피고', '사건', '처분', '재량', '남용', '주택', '관리', '체제', '판례', '제적', '의의', '판례', '주택', '대표자', '선거', '주자', '대표', '회의', '구성', '신고', '행정청', '신고', '접수', '행위', '재량행위', '전제', '재량', '여부', '원고', '피고', '분쟁', '대하', '법원', '판결', '판결', '주택', '관리', '규약', '자치', '법규', '명시', '동시', '개정', '주택', '법령', '조항', '관리', '규약', '준칙', '사항', '배치', '기존', '관리', '규약', '조항', '효력', '관리', '규약', '주택', '법령', '하위', '지위', '상위', '법인', '법적', '규정', '배치', '법규범', '법규', '로서', '성격', '것임', '여기', '법규', '일반', '권리', '의무', '관계', '법규범', '특별', '권력관계', '어서', '법규범', '일반', '권리', '의무', '관계', '법규범', '대립', '개념', '자치', '법규', '의미', '지방자치단체', '자치', '관계', '법규', '총칭', '헌법', '지방자치법', '교육법', '지방', '세법', '지방공무원법', '조례', '규칙', '의미', '법령', '범위', '지방자치단체', '제정', '자치', '규정', '조례', '규칙', '자치', '법규', '개념', '택법', '시행', '령제', '법정', '관리', '규약', '준칙', '의무', '규정', '종합', '정리', '주택', '관리', '규약', '주민', '자치', '제정', '일반', '의미', '자치', '규범', '다른', '한편', '행정', '목적', '달성', '주택', '법령', '법적', '택법', '참조', '주민', '사적자치', '제적', '의미', '사적자치', '규범', '해석', '아파트', '비리', '근절', '주민', '아파트', '관리', '원칙', '회장', '불법', '해임', '아파트', '거주', '아파트', '마다', '비리', '아파트', '거의', '구청', '조차', '법적', '안정', '어처구니', '답변', '회장', '약속', '자해', '싯점', '마치', '회장', '근무', '무언가', '비리', '경우', '거의', '아쉬움', '차원', '아파트', '비리', '공화국', '특단', '조치', '주민', '호주머니', '도둑', '누구', '아파트', '생활', '가칭', '공동', '주택', '관리', '조치', '취해', '반드시', '아파트', '비리', '민원', '동참']\n",
      "[(2, 0.022958305), (4, 0.020447109), (5, 0.35336283), (8, 0.44806868), (9, 0.06341085), (10, 0.08175054)]\n",
      "8 0.44806868\n",
      "\n",
      "\n",
      "9\n",
      "['증권', '자본시장', '개정안', '상장폐지', '개정안', '존경', '먼저', '국정', '운영', '노고', '대구', '거주', '주식', '소액', '투자자', '로서', '대주', '주의', '먹튀', '사기', '상폐', '경험', '기업', '호재', '뉴스', '허위', '공시', '이용', '주가', '부양', '주주', '전량', '매도', '상장폐지', '소액', '주가', '피해', '고스', '기타', '대주', '주의', '비리', '횡령', '배임', '분식회계', '등등', '거래', '정지', '상폐', '회사', '비상', '정상', '영업', '영위', '상폐법', '위헌', '자유당', '독재', '대의', '악법', '구시대', '유물', '상폐법', '이용', '흑자', '기업', '기업', '사냥꾼', '침투', '회사', '고용', '직원', '소액', '투자자', '사지', '이처럼', '상폐법', '기업', '먹튀', '사기', '약탈', '경제', '투기', '자본', '기업', '사냥꾼', '도구로', '전락', '행태', '간다', '시장', '전체', '얼마', '해외', '먹튀', '투기', '자본', '침투', '발전', '저해', '요인', '수도', '성장동력', '엔진', '다음', '거래소', '이야기', '상장', '주체', '거래소', '상장', '책임', '상폐', '책임', '거래소', '관리', '감독', '부실', '소액', '주주', '전가', '행정', '회사', '법적', '처리', '책임', '회피', '일반', '소액', '주주', '무지', '법조인', '회계사', '회사', '지표', '거래소', '지표', '투자', '누구', '거래소', '일례', '예전', '기술', '산업', '종목', '거래소', '우량', '종목', '편입', '얼마', '상장폐지', '거래소', '지표', '투자', '투자자', '재산', '피해', '자살', '직전', '는걸', '거래소', '얼마나', '관리', '감독', '엉망', '일례', '소액', '주주', '설자리', '누굴', '투자', '고생', '먹튀', '사기', '억울', '시오', '정책', '제안', '한가지', '무지', '거래소', '상장', '상폐', '보험', '상폐', '보증금', '가입', '업체', '기타', '소액', '주주', '보호', '안전', '장치', '법안', '가입', '업체', '한해', '상장', '이법', '신설', '제정', '거래소', '종목', '일일이', '감시', '관리', '감독', '사실', '불가', '법안', '신설', '제정', '기업', '사냥꾼', '최대', '주의', '비리', '먹튀', '방지', '외국', '투기', '먹튀', '자본', '침투', '기타', '자본시장', '개정안', '필요', '부디', '거래소', '적폐', '횡포', '바로', '시오', '소액', '주의', '권리', '시오', '시장', '바로', '약자', '보호', '서민이', '보호', '바로', '꼭좀', '시오', '노고', '다시', '한번', '고개', '감사', '국정', '운영', '불편', '죄송', '두서', '장문', '과거', '청와대', '소통', '마련']\n",
      "[(0, 0.33402002), (2, 0.26624355), (5, 0.18334813), (12, 0.21400543)]\n",
      "0 0.33402002\n",
      "\n",
      "\n"
     ]
    }
   ],
   "source": [
    "#모델링 결과 몇개만 확인해보기\n",
    "for i in range(10):\n",
    "    print(article_indexes[i])\n",
    "    topics_list = lda_model.get_document_topics(corpus[i])\n",
    "    print(docs_filtered[i])\n",
    "    print(topics_list)\n",
    "    hi_topic, hi_prob = get_highest_topic(topics_list)\n",
    "    print(hi_topic, hi_prob)\n",
    "    \n",
    "    print('\\n')"
   ]
  },
  {
   "cell_type": "markdown",
   "metadata": {},
   "source": [
    "## 5. 모델링 결과 시각화\n",
    "- 토픽 모델링 결과를 인터렉티브 비주얼라이제이션 형태로 시각화한다."
   ]
  },
  {
   "cell_type": "code",
   "execution_count": null,
   "metadata": {},
   "outputs": [],
   "source": [
    "prepared_data = gensimvis.prepare(lda_model, corpus, dictionary)\n",
    "\n",
    "#주피터에서 보기\n",
    "pyLDAvis.display(prepared_data)\n",
    "\n",
    "#HTML로 시각화 결과 저장\n",
    "pyLDAvis.save_html(prepared_data, f'./LDA/{KEYWORD}_LDAvis.html')"
   ]
  },
  {
   "cell_type": "markdown",
   "metadata": {},
   "source": [
    "## 6. 모델 저장\n",
    "- 시각화로 확인한 결과, 분류 모델이 마음에 든다면 로컬에 저장한다."
   ]
  },
  {
   "cell_type": "code",
   "execution_count": 44,
   "metadata": {
    "ExecuteTime": {
     "end_time": "2020-01-17T07:55:31.365684Z",
     "start_time": "2020-01-17T07:55:31.317286Z"
    }
   },
   "outputs": [],
   "source": [
    "#모델 저장\n",
    "lda_model.save(f'./LDA/{KEYWORD}.lda')    #모델 불러올 때는 lda_model = models.ldamodel.LdaModel.load('모델명.lda')\n",
    "\n",
    "#분류 결과 저장\n",
    "print_topic_words(lda_model)"
   ]
  },
  {
   "cell_type": "code",
   "execution_count": null,
   "metadata": {},
   "outputs": [],
   "source": []
  }
 ],
 "metadata": {
  "kernelspec": {
   "display_name": "Python 3",
   "language": "python",
   "name": "python3"
  },
  "language_info": {
   "codemirror_mode": {
    "name": "ipython",
    "version": 3
   },
   "file_extension": ".py",
   "mimetype": "text/x-python",
   "name": "python",
   "nbconvert_exporter": "python",
   "pygments_lexer": "ipython3",
   "version": "3.7.4"
  },
  "varInspector": {
   "cols": {
    "lenName": 16,
    "lenType": 16,
    "lenVar": 40
   },
   "kernels_config": {
    "python": {
     "delete_cmd_postfix": "",
     "delete_cmd_prefix": "del ",
     "library": "var_list.py",
     "varRefreshCmd": "print(var_dic_list())"
    },
    "r": {
     "delete_cmd_postfix": ") ",
     "delete_cmd_prefix": "rm(",
     "library": "var_list.r",
     "varRefreshCmd": "cat(var_dic_list()) "
    }
   },
   "types_to_exclude": [
    "module",
    "function",
    "builtin_function_or_method",
    "instance",
    "_Feature"
   ],
   "window_display": false
  }
 },
 "nbformat": 4,
 "nbformat_minor": 2
}
