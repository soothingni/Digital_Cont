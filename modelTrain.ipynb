{
 "cells": [
  {
   "cell_type": "markdown",
   "metadata": {},
   "source": [
    "# Model Train"
   ]
  },
  {
   "cell_type": "code",
   "execution_count": 1,
   "metadata": {},
   "outputs": [],
   "source": [
    "import pandas as pd\n",
    "import numpy as np\n",
    "import os\n",
    "from gensim.models import Word2Vec"
   ]
  },
  {
   "cell_type": "markdown",
   "metadata": {},
   "source": [
    "## 1. 데이터\n",
    "- 명사 단위 데이터"
   ]
  },
  {
   "cell_type": "code",
   "execution_count": 3,
   "metadata": {},
   "outputs": [],
   "source": [
    "data = pd.read_csv(\"data/NOUN_수정.txt\").rename(columns={\"Unnamed: 0\":\"ID\"}).dropna() # NA 드랍"
   ]
  },
  {
   "cell_type": "markdown",
   "metadata": {},
   "source": [
    "## 2. 모델\n",
    "- gensim Word2Vec - skipgram & cbow"
   ]
  },
  {
   "cell_type": "markdown",
   "metadata": {},
   "source": [
    "### 카테고리별 모델링"
   ]
  },
  {
   "cell_type": "code",
   "execution_count": 6,
   "metadata": {},
   "outputs": [],
   "source": [
    "def modelTrain(cat, sg, path):\n",
    "    if not os.path.exists(path):\n",
    "        os.mkdir(path) # 모델 저장할 경로 생성\n",
    "    df = data[data.Category == cat] # 카테고리 필터\n",
    "    words = [str(x).split(\" \") for x in df.Nouns.values] # 훈련용 데이터\n",
    "    model = Word2Vec(words, window=3, min_count=3, size=100, sg=sg) # 모델 훈련\n",
    "    model.init_sims(replace=True) # 불필요한 메모리 deload\n",
    "    filename = cat.replace(\"/\",\"\") # 파일이름 지정\n",
    "    model.save(f\"{path}/{filename}.model\") # 모델 저장"
   ]
  },
  {
   "cell_type": "code",
   "execution_count": 7,
   "metadata": {},
   "outputs": [
    {
     "data": {
      "text/plain": [
       "0     None\n",
       "1     None\n",
       "2     None\n",
       "3     None\n",
       "4     None\n",
       "5     None\n",
       "6     None\n",
       "7     None\n",
       "8     None\n",
       "9     None\n",
       "10    None\n",
       "11    None\n",
       "12    None\n",
       "13    None\n",
       "14    None\n",
       "15    None\n",
       "16    None\n",
       "dtype: object"
      ]
     },
     "execution_count": 7,
     "metadata": {},
     "output_type": "execute_result"
    }
   ],
   "source": [
    "pd.Series(data.Category.unique()).apply(modelTrain, sg=1, path='./models/skipgram') # 카테고리별로 훈련, 저장"
   ]
  },
  {
   "cell_type": "code",
   "execution_count": 8,
   "metadata": {},
   "outputs": [
    {
     "data": {
      "text/plain": [
       "0     None\n",
       "1     None\n",
       "2     None\n",
       "3     None\n",
       "4     None\n",
       "5     None\n",
       "6     None\n",
       "7     None\n",
       "8     None\n",
       "9     None\n",
       "10    None\n",
       "11    None\n",
       "12    None\n",
       "13    None\n",
       "14    None\n",
       "15    None\n",
       "16    None\n",
       "dtype: object"
      ]
     },
     "execution_count": 8,
     "metadata": {},
     "output_type": "execute_result"
    }
   ],
   "source": [
    "pd.Series(data.Category.unique()).apply(modelTrain, sg=0, path='./models/cbow') # 카테고리별로 훈련, 저장"
   ]
  },
  {
   "cell_type": "markdown",
   "metadata": {},
   "source": [
    "### 전체 문서 모델링"
   ]
  },
  {
   "cell_type": "code",
   "execution_count": 4,
   "metadata": {},
   "outputs": [],
   "source": [
    "words = [str(x).split(\" \") for x in data.Nouns.values]"
   ]
  },
  {
   "cell_type": "code",
   "execution_count": 5,
   "metadata": {},
   "outputs": [],
   "source": [
    "model = Word2Vec(words, window=3, min_count=3, size=100, sg=1) # skip-gram 방식으로 모델링\n",
    "model.init_sims(replace=True) # 불필요한 메모리 deload\n",
    "model.save(\"./models/skipgram/total.model\")"
   ]
  },
  {
   "cell_type": "code",
   "execution_count": 6,
   "metadata": {},
   "outputs": [],
   "source": [
    "model = Word2Vec(words, window=3, min_count=3, size=100, sg=0) # cbow 방식으로 모델링\n",
    "model.init_sims(replace=True) # 불필요한 메모리 deload\n",
    "model.save(\"./models/cbow/total.model\")"
   ]
  },
  {
   "cell_type": "markdown",
   "metadata": {},
   "source": [
    "## 3. 결과 정리\n",
    "\n",
    "- '정의'와 가장 가까운 명사"
   ]
  },
  {
   "cell_type": "code",
   "execution_count": 18,
   "metadata": {},
   "outputs": [],
   "source": [
    "def loadAndVal(path, topn=50):\n",
    "    mostSimilar = Word2Vec.load(path).wv.most_similar(\"정의\", topn=topn)\n",
    "    \n",
    "    result = pd.DataFrame({\n",
    "        \"model\":path.split(\"/\")[-2],\n",
    "        \"category\":path.split(\"/\")[-1].split(\".\")[0],\n",
    "        \"rank\":np.arange(1,51),\n",
    "        \"keyword\":[word for word, distance in mostSimilar],\n",
    "        \"distance\":[distance for word, distance in mostSimilar],\n",
    "        \n",
    "        \n",
    "    })\n",
    "    \n",
    "    return result"
   ]
  },
  {
   "cell_type": "code",
   "execution_count": 19,
   "metadata": {},
   "outputs": [],
   "source": [
    "sgModels = [f\"./models/skipgram/{filename}\" for filename in os.listdir(\"./models/skipgram/\")]\n",
    "sgResult = pd.concat(list(pd.Series(sgModels).apply(loadAndVal)))"
   ]
  },
  {
   "cell_type": "code",
   "execution_count": 23,
   "metadata": {},
   "outputs": [],
   "source": [
    "cbowModels = [f\"./models/cbow/{filename}\" for filename in os.listdir(\"./models/cbow/\")]\n",
    "cbowResult = pd.concat(list(pd.Series(cbowModels).apply(loadAndVal)))"
   ]
  },
  {
   "cell_type": "code",
   "execution_count": 26,
   "metadata": {},
   "outputs": [],
   "source": [
    "pd.concat([sgResult, cbowResult]).to_csv(\"./정의단어/정의단어.csv\", index=False)"
   ]
  }
 ],
 "metadata": {
  "kernelspec": {
   "display_name": "Python 3",
   "language": "python",
   "name": "python3"
  },
  "language_info": {
   "codemirror_mode": {
    "name": "ipython",
    "version": 3
   },
   "file_extension": ".py",
   "mimetype": "text/x-python",
   "name": "python",
   "nbconvert_exporter": "python",
   "pygments_lexer": "ipython3",
   "version": "3.7.4"
  }
 },
 "nbformat": 4,
 "nbformat_minor": 2
}
