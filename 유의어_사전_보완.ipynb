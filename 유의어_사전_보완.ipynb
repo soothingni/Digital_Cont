{
 "cells": [
  {
   "cell_type": "code",
   "execution_count": 1,
   "metadata": {
    "ExecuteTime": {
     "end_time": "2020-01-15T07:18:44.512014Z",
     "start_time": "2020-01-15T07:18:43.129710Z"
    }
   },
   "outputs": [],
   "source": [
    "from gensim.models import Word2Vec\n",
    "from sklearn.metrics.pairwise import cosine_similarity\n",
    "import pandas as pd\n",
    "import operator\n",
    "from matplotlib import rc\n",
    "import matplotlib.pyplot as plt\n",
    "import numpy as np"
   ]
  },
  {
   "cell_type": "code",
   "execution_count": 2,
   "metadata": {
    "ExecuteTime": {
     "end_time": "2020-01-15T07:18:45.893322Z",
     "start_time": "2020-01-15T07:18:45.887337Z"
    }
   },
   "outputs": [],
   "source": [
    "def get_filtered_syn_dict(senti_list, coef_thresh, freq_thresh):\n",
    "    syn_dict = {}\n",
    "    for SENTI_WORD in senti_list:\n",
    "        root = [word for word, coef in model.wv.similar_by_word(SENTI_WORD ,topn=50) if coef > coef_thresh]\n",
    "        syn_freq = dict(zip(root, [0] * len(root)))\n",
    "        for synonym in root:\n",
    "            temp = [word for word, coef in model.wv.similar_by_word(synonym ,topn=50) if coef > coef_thresh]\n",
    "            for word in temp:\n",
    "                if word in syn_freq: syn_freq[word] += 1\n",
    "                    \n",
    "        filtered = [word for word in syn_freq if syn_freq[word] >= len(root) * freq_thresh]\n",
    "        syn_dict[SENTI_WORD] = filtered\n",
    "    return syn_dict"
   ]
  },
  {
   "cell_type": "code",
   "execution_count": 3,
   "metadata": {
    "ExecuteTime": {
     "end_time": "2020-01-15T07:18:48.459519Z",
     "start_time": "2020-01-15T07:18:48.455483Z"
    }
   },
   "outputs": [],
   "source": [
    "CATEGORY = '정치개혁'  #분석할 카테고리\n",
    "DIR = 'NOUN_수정.txt'   #명사만 모은 최종 파일 경로\n",
    "senti_list = ['분노', '불안', '행복', '희망']   #분류할 감정"
   ]
  },
  {
   "cell_type": "code",
   "execution_count": 4,
   "metadata": {
    "ExecuteTime": {
     "end_time": "2020-01-15T07:21:24.772552Z",
     "start_time": "2020-01-15T07:18:49.984381Z"
    }
   },
   "outputs": [],
   "source": [
    "with open(DIR, 'r', encoding='utf-8') as f:\n",
    "    docs, IDs = zip(*[(x.split(',')[-1].strip(), x.split(',')[0]) for x in f.readlines() if x.split(',')[-1].strip() != 'Nouns'])\n",
    "\n",
    "docs1 = [x.split(' ') for x in docs]\n",
    "\n",
    "model = Word2Vec(docs1, window=3, min_count=3, size=100)"
   ]
  },
  {
   "cell_type": "code",
   "execution_count": 6,
   "metadata": {
    "ExecuteTime": {
     "end_time": "2020-01-15T07:23:19.398752Z",
     "start_time": "2020-01-15T07:23:19.103542Z"
    }
   },
   "outputs": [
    {
     "data": {
      "text/plain": [
       "{'분노': ['분개',\n",
       "  '울분',\n",
       "  '실망',\n",
       "  '울화',\n",
       "  '경악',\n",
       "  '개탄',\n",
       "  '울화통',\n",
       "  '허탈',\n",
       "  '참담',\n",
       "  '몸서리',\n",
       "  '치민',\n",
       "  '슬픔',\n",
       "  '무력감',\n",
       "  '탄식',\n",
       "  '배신',\n",
       "  '비통',\n",
       "  '절망',\n",
       "  '가슴',\n",
       "  '격앙',\n",
       "  '금치',\n",
       "  '두려움',\n",
       "  '좌절',\n",
       "  '당혹',\n",
       "  '통탄',\n",
       "  '착잡',\n",
       "  '한탄',\n",
       "  '분통',\n",
       "  '가슴속',\n",
       "  '마음속',\n",
       "  '감탄',\n",
       "  '통쾌',\n",
       "  '체념',\n",
       "  '심경'],\n",
       " '불안': ['불안감',\n",
       "  '초조',\n",
       "  '걱정',\n",
       "  '우울',\n",
       "  '두려움',\n",
       "  '근심',\n",
       "  '노심초사',\n",
       "  '피곤',\n",
       "  '공포',\n",
       "  '긴장',\n",
       "  '심란',\n",
       "  '조마조마'],\n",
       " '행복': ['평안',\n",
       "  '편안',\n",
       "  '삶',\n",
       "  '행복감',\n",
       "  '평온',\n",
       "  '축복',\n",
       "  '소박',\n",
       "  '행운',\n",
       "  '기쁨',\n",
       "  '안식처',\n",
       "  '쾌적',\n",
       "  '즐거움',\n",
       "  '희망이',\n",
       "  '풍요',\n",
       "  '갈망',\n",
       "  '오래오래',\n",
       "  '안락',\n",
       "  '소망',\n",
       "  '꿈',\n",
       "  '더없이',\n",
       "  '여생',\n",
       "  '삶속',\n",
       "  '우리네',\n",
       "  '만끽'],\n",
       " '희망': ['희망이',\n",
       "  '꿈',\n",
       "  '소망',\n",
       "  '실낱',\n",
       "  '기쁨',\n",
       "  '내집마련',\n",
       "  '행복',\n",
       "  '가닥',\n",
       "  '바램',\n",
       "  '소박',\n",
       "  '결실',\n",
       "  '염원',\n",
       "  '행운',\n",
       "  '꺽지',\n",
       "  '기원']}"
      ]
     },
     "execution_count": 6,
     "metadata": {},
     "output_type": "execute_result"
    }
   ],
   "source": [
    "get_filtered_syn_dict(senti_list, 0.5, 0.2)"
   ]
  },
  {
   "cell_type": "code",
   "execution_count": null,
   "metadata": {},
   "outputs": [],
   "source": []
  }
 ],
 "metadata": {
  "kernelspec": {
   "display_name": "Python 3",
   "language": "python",
   "name": "python3"
  },
  "varInspector": {
   "cols": {
    "lenName": 16,
    "lenType": 16,
    "lenVar": 40
   },
   "kernels_config": {
    "python": {
     "delete_cmd_postfix": "",
     "delete_cmd_prefix": "del ",
     "library": "var_list.py",
     "varRefreshCmd": "print(var_dic_list())"
    },
    "r": {
     "delete_cmd_postfix": ") ",
     "delete_cmd_prefix": "rm(",
     "library": "var_list.r",
     "varRefreshCmd": "cat(var_dic_list()) "
    }
   },
   "types_to_exclude": [
    "module",
    "function",
    "builtin_function_or_method",
    "instance",
    "_Feature"
   ],
   "window_display": false
  }
 },
 "nbformat": 4,
 "nbformat_minor": 2
}
