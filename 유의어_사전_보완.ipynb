{
 "cells": [
  {
   "cell_type": "code",
   "execution_count": 1,
   "metadata": {},
   "outputs": [],
   "source": [
    "from gensim.models import Word2Vec\n",
    "from sklearn.metrics.pairwise import cosine_similarity\n",
    "import pandas as pd\n",
    "import operator\n",
    "from matplotlib import rc\n",
    "import matplotlib.pyplot as plt\n",
    "import numpy as np"
   ]
  },
  {
   "cell_type": "code",
   "execution_count": 2,
   "metadata": {},
   "outputs": [],
   "source": [
    "CATEGORY = '정치개혁'  #분석할 카테고리\n",
    "DIR = '/Users/soothingni/Downloads/NOUN_수정.txt'   #명사만 모은 최종 파일 경로\n",
    "senti_list = ['분노', '불안', '행복', '희망']   #분류할 감정"
   ]
  },
  {
   "cell_type": "code",
   "execution_count": 3,
   "metadata": {},
   "outputs": [],
   "source": [
    "with open(DIR, 'r') as f:\n",
    "    docs, IDs = zip(*[(x.split(',')[-1].strip(), x.split(',')[0]) for x in f.readlines() if x.split(',')[-1].strip() != 'Nouns'])\n",
    "\n",
    "docs1 = [x.split(' ') for x in docs]\n",
    "\n",
    "model = Word2Vec(docs1, window=3, min_count=3, size=100)"
   ]
  },
  {
   "cell_type": "code",
   "execution_count": 4,
   "metadata": {},
   "outputs": [],
   "source": [
    "df = pd.read_csv(DIR)\n",
    "df.rename(columns = {'Unnamed: 0': 'ID'}, inplace = True)\n",
    "\n",
    "df_CATEGORY = df.iloc[list(IDs)]\n",
    "\n",
    "#2. 분류에 참조할 감정 유의어 사전 생성\n",
    "synonym_dict = {}\n",
    "for KEYWORD in senti_list:\n",
    "    #특정 단어와 문맥상 유사하게 사용된 단어\n",
    "    top50 = model.wv.similar_by_word( KEYWORD ,topn=50)\n",
    "\n",
    "    synonyms = [word for word, coef in top50 if coef >= 0.5]      #유의어 coef threshold를 0.5로 설정\n",
    "    synonyms.append(KEYWORD)\n",
    "    synonym_dict[KEYWORD] = synonyms"
   ]
  },
  {
   "cell_type": "code",
   "execution_count": null,
   "metadata": {},
   "outputs": [],
   "source": []
  }
 ],
 "metadata": {
  "kernelspec": {
   "display_name": "Python 3",
   "language": "python",
   "name": "python3"
  },
  "language_info": {
   "codemirror_mode": {
    "name": "ipython",
    "version": 3
   },
   "file_extension": ".py",
   "mimetype": "text/x-python",
   "name": "python",
   "nbconvert_exporter": "python",
   "pygments_lexer": "ipython3",
   "version": "3.7.5"
  }
 },
 "nbformat": 4,
 "nbformat_minor": 2
}
